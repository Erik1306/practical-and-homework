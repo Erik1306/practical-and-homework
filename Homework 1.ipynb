{
 "cells": [
  {
   "cell_type": "markdown",
   "metadata": {},
   "source": [
    "# Homework 1"
   ]
  },
  {
   "cell_type": "markdown",
   "metadata": {},
   "source": [
    "## problem 1"
   ]
  },
  {
   "cell_type": "code",
   "execution_count": 1,
   "metadata": {},
   "outputs": [
    {
     "name": "stdout",
     "output_type": "stream",
     "text": [
      "2\n",
      "[1, 2, 'hi', False, 45, 2, 0, 2]\n",
      "number of 2s =  3\n"
     ]
    }
   ],
   "source": [
    "list1 = [1, 2, \"hi\", False, 45, 2, 0, 2]\n",
    "a = int(input())\n",
    "k=0\n",
    "for i in list1:\n",
    "    if i == a:\n",
    "        k+=1\n",
    "print(list1)\n",
    "print(\"number of %ss = \"% a,k)\n"
   ]
  },
  {
   "cell_type": "markdown",
   "metadata": {},
   "source": [
    "## problem 2"
   ]
  },
  {
   "cell_type": "code",
   "execution_count": 16,
   "metadata": {},
   "outputs": [
    {
     "name": "stdout",
     "output_type": "stream",
     "text": [
      "(0, 1, 2, 3, 4, 5, 6, 7)\n",
      "(0, 1, 2, 3, 'hello', 5, 6, 7)\n"
     ]
    }
   ],
   "source": [
    "t2 = (0, 1, 2, 3, 4, 5, 6, 7)\n",
    "print(t2)\n",
    "t3 = (\"hello\",)\n",
    "t3 = t2[:4] + t3 + t2[5:]\n",
    "print(t3)"
   ]
  },
  {
   "cell_type": "markdown",
   "metadata": {},
   "source": [
    "## problem 3"
   ]
  },
  {
   "cell_type": "code",
   "execution_count": 9,
   "metadata": {},
   "outputs": [
    {
     "name": "stdout",
     "output_type": "stream",
     "text": [
      "56\n",
      "{'name': 'Armen', 'age': 15, 'grades': [10, 8, 8, 4, 6, 7], 'weight': 56}\n"
     ]
    }
   ],
   "source": [
    "d = {\"name\": \"Armen\", \"age\": 15, \"grades\":[10, 8, 8, 4, 6, 7]}\n",
    "if \"weight\" not in d.keys():\n",
    "    n = int(input())\n",
    "    d[\"weight\"] = n\n",
    "    print(d)\n",
    "else:\n",
    "    print(d[\"weight\"])"
   ]
  },
  {
   "cell_type": "markdown",
   "metadata": {},
   "source": [
    "## problem 4"
   ]
  },
  {
   "cell_type": "code",
   "execution_count": 10,
   "metadata": {},
   "outputs": [
    {
     "name": "stdout",
     "output_type": "stream",
     "text": [
      "2\n",
      "3\n",
      "5\n"
     ]
    }
   ],
   "source": [
    "correct_num = 5\n",
    "x = 0\n",
    "while x < 10:\n",
    "    guess = int(input())\n",
    "    if correct_num == guess:\n",
    "        break\n",
    "    x += 1"
   ]
  },
  {
   "cell_type": "markdown",
   "metadata": {},
   "source": [
    "## problem 5"
   ]
  },
  {
   "cell_type": "code",
   "execution_count": 13,
   "metadata": {},
   "outputs": [
    {
     "name": "stdout",
     "output_type": "stream",
     "text": [
      "a abc xyz s aba 1221\n",
      "2\n"
     ]
    }
   ],
   "source": [
    "list1 = [ i  for i in input().split() ]\n",
    "k = 0\n",
    "for j in range(len(list1)):\n",
    "    if (len(list1[j])) >= 2 and list1[j][0] == list1[j][-1]:\n",
    "        k += 1\n",
    "print(k)\n",
    "        "
   ]
  }
 ],
 "metadata": {
  "kernelspec": {
   "display_name": "Python 3",
   "language": "python",
   "name": "python3"
  },
  "language_info": {
   "codemirror_mode": {
    "name": "ipython",
    "version": 3
   },
   "file_extension": ".py",
   "mimetype": "text/x-python",
   "name": "python",
   "nbconvert_exporter": "python",
   "pygments_lexer": "ipython3",
   "version": "3.7.6"
  }
 },
 "nbformat": 4,
 "nbformat_minor": 4
}
