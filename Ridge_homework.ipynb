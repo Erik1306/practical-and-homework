{
 "cells": [
  {
   "cell_type": "code",
   "execution_count": 3,
   "metadata": {},
   "outputs": [],
   "source": [
    "import pandas as pd"
   ]
  },
  {
   "cell_type": "code",
   "execution_count": 4,
   "metadata": {},
   "outputs": [],
   "source": [
    "df = pd.read_csv('houses_train.csv')"
   ]
  },
  {
   "cell_type": "code",
   "execution_count": 5,
   "metadata": {},
   "outputs": [
    {
     "data": {
      "text/html": [
       "<div>\n",
       "<style scoped>\n",
       "    .dataframe tbody tr th:only-of-type {\n",
       "        vertical-align: middle;\n",
       "    }\n",
       "\n",
       "    .dataframe tbody tr th {\n",
       "        vertical-align: top;\n",
       "    }\n",
       "\n",
       "    .dataframe thead th {\n",
       "        text-align: right;\n",
       "    }\n",
       "</style>\n",
       "<table border=\"1\" class=\"dataframe\">\n",
       "  <thead>\n",
       "    <tr style=\"text-align: right;\">\n",
       "      <th></th>\n",
       "      <th>Unnamed: 0</th>\n",
       "      <th>price</th>\n",
       "      <th>condition</th>\n",
       "      <th>district</th>\n",
       "      <th>max_floor</th>\n",
       "      <th>street</th>\n",
       "      <th>num_rooms</th>\n",
       "      <th>region</th>\n",
       "      <th>area</th>\n",
       "      <th>url</th>\n",
       "      <th>num_bathrooms</th>\n",
       "      <th>building_type</th>\n",
       "      <th>floor</th>\n",
       "      <th>ceiling_height</th>\n",
       "    </tr>\n",
       "  </thead>\n",
       "  <tbody>\n",
       "    <tr>\n",
       "      <th>0</th>\n",
       "      <td>5546</td>\n",
       "      <td>130000.0</td>\n",
       "      <td>newly repaired</td>\n",
       "      <td>Center</td>\n",
       "      <td>4</td>\n",
       "      <td>Sayat Nova Ave</td>\n",
       "      <td>3</td>\n",
       "      <td>Yerevan</td>\n",
       "      <td>96.0</td>\n",
       "      <td>http://www.myrealty.am/en/item/28244/3-senyaka...</td>\n",
       "      <td>1</td>\n",
       "      <td>stone</td>\n",
       "      <td>3</td>\n",
       "      <td>3.2</td>\n",
       "    </tr>\n",
       "    <tr>\n",
       "      <th>1</th>\n",
       "      <td>2979</td>\n",
       "      <td>65000.0</td>\n",
       "      <td>good</td>\n",
       "      <td>Arabkir</td>\n",
       "      <td>5</td>\n",
       "      <td>Hr.Kochar St</td>\n",
       "      <td>3</td>\n",
       "      <td>Yerevan</td>\n",
       "      <td>78.0</td>\n",
       "      <td>http://www.myrealty.am/en/item/18029/3-senyaka...</td>\n",
       "      <td>1</td>\n",
       "      <td>stone</td>\n",
       "      <td>2</td>\n",
       "      <td>2.8</td>\n",
       "    </tr>\n",
       "    <tr>\n",
       "      <th>2</th>\n",
       "      <td>2698</td>\n",
       "      <td>129000.0</td>\n",
       "      <td>good</td>\n",
       "      <td>Center</td>\n",
       "      <td>10</td>\n",
       "      <td>M.Khorenatsi St</td>\n",
       "      <td>3</td>\n",
       "      <td>Yerevan</td>\n",
       "      <td>90.0</td>\n",
       "      <td>http://www.myrealty.am/en/item/37797/3-senyaka...</td>\n",
       "      <td>1</td>\n",
       "      <td>panel</td>\n",
       "      <td>3</td>\n",
       "      <td>2.8</td>\n",
       "    </tr>\n",
       "    <tr>\n",
       "      <th>3</th>\n",
       "      <td>4548</td>\n",
       "      <td>52000.0</td>\n",
       "      <td>newly repaired</td>\n",
       "      <td>Center</td>\n",
       "      <td>14</td>\n",
       "      <td>Argishti St</td>\n",
       "      <td>2</td>\n",
       "      <td>Yerevan</td>\n",
       "      <td>53.0</td>\n",
       "      <td>http://www.myrealty.am/en/item/36153/2-senyaka...</td>\n",
       "      <td>1</td>\n",
       "      <td>monolit</td>\n",
       "      <td>5</td>\n",
       "      <td>3.0</td>\n",
       "    </tr>\n",
       "    <tr>\n",
       "      <th>4</th>\n",
       "      <td>2982</td>\n",
       "      <td>65000.0</td>\n",
       "      <td>newly repaired</td>\n",
       "      <td>Center</td>\n",
       "      <td>12</td>\n",
       "      <td>Mashtots Ave</td>\n",
       "      <td>2</td>\n",
       "      <td>Yerevan</td>\n",
       "      <td>47.0</td>\n",
       "      <td>http://www.myrealty.am/en/item/17566/2-senyaka...</td>\n",
       "      <td>1</td>\n",
       "      <td>panel</td>\n",
       "      <td>3</td>\n",
       "      <td>2.8</td>\n",
       "    </tr>\n",
       "  </tbody>\n",
       "</table>\n",
       "</div>"
      ],
      "text/plain": [
       "   Unnamed: 0     price       condition district  max_floor           street  \\\n",
       "0        5546  130000.0  newly repaired   Center          4   Sayat Nova Ave   \n",
       "1        2979   65000.0            good  Arabkir          5     Hr.Kochar St   \n",
       "2        2698  129000.0            good   Center         10  M.Khorenatsi St   \n",
       "3        4548   52000.0  newly repaired   Center         14      Argishti St   \n",
       "4        2982   65000.0  newly repaired   Center         12     Mashtots Ave   \n",
       "\n",
       "   num_rooms   region  area  \\\n",
       "0          3  Yerevan  96.0   \n",
       "1          3  Yerevan  78.0   \n",
       "2          3  Yerevan  90.0   \n",
       "3          2  Yerevan  53.0   \n",
       "4          2  Yerevan  47.0   \n",
       "\n",
       "                                                 url  num_bathrooms  \\\n",
       "0  http://www.myrealty.am/en/item/28244/3-senyaka...              1   \n",
       "1  http://www.myrealty.am/en/item/18029/3-senyaka...              1   \n",
       "2  http://www.myrealty.am/en/item/37797/3-senyaka...              1   \n",
       "3  http://www.myrealty.am/en/item/36153/2-senyaka...              1   \n",
       "4  http://www.myrealty.am/en/item/17566/2-senyaka...              1   \n",
       "\n",
       "  building_type  floor  ceiling_height  \n",
       "0         stone      3             3.2  \n",
       "1         stone      2             2.8  \n",
       "2         panel      3             2.8  \n",
       "3       monolit      5             3.0  \n",
       "4         panel      3             2.8  "
      ]
     },
     "execution_count": 5,
     "metadata": {},
     "output_type": "execute_result"
    }
   ],
   "source": [
    "df.head()"
   ]
  },
  {
   "cell_type": "code",
   "execution_count": 6,
   "metadata": {},
   "outputs": [],
   "source": [
    "import numpy as np\n",
    "import matplotlib.pyplot as plt\n",
    "from sklearn import linear_model\n",
    "from sklearn.model_selection import train_test_split\n",
    "from sklearn.metrics import mean_squared_error, r2_score\n"
   ]
  },
  {
   "cell_type": "code",
   "execution_count": 7,
   "metadata": {},
   "outputs": [
    {
     "data": {
      "text/plain": [
       "Index(['Unnamed: 0', 'price', 'condition', 'district', 'max_floor', 'street',\n",
       "       'num_rooms', 'region', 'area', 'url', 'num_bathrooms', 'building_type',\n",
       "       'floor', 'ceiling_height'],\n",
       "      dtype='object')"
      ]
     },
     "execution_count": 7,
     "metadata": {},
     "output_type": "execute_result"
    }
   ],
   "source": [
    "df.columns"
   ]
  },
  {
   "cell_type": "code",
   "execution_count": 8,
   "metadata": {},
   "outputs": [
    {
     "data": {
      "text/plain": [
       "4999"
      ]
     },
     "execution_count": 8,
     "metadata": {},
     "output_type": "execute_result"
    }
   ],
   "source": [
    "df = df[df['price'] != 550000] #550000 ket@ hanel em qani vor aknhayt ktrvac er myusneric \n",
    "len(df)"
   ]
  },
  {
   "cell_type": "code",
   "execution_count": 220,
   "metadata": {},
   "outputs": [
    {
     "data": {
      "text/plain": [
       "<matplotlib.collections.PathCollection at 0x2c844d645c8>"
      ]
     },
     "execution_count": 220,
     "metadata": {},
     "output_type": "execute_result"
    },
    {
     "data": {
      "image/png": "[encoded data removed]",
      "text/plain": [
       "<Figure size 432x288 with 1 Axes>"
      ]
     },
     "metadata": {
      "needs_background": "light"
     },
     "output_type": "display_data"
    }
   ],
   "source": [
    "predictions = cross_val_predict(model, x, y, cv=10)\n",
    "plt.scatter(y, predictions)"
   ]
  },
  {
   "cell_type": "code",
   "execution_count": 221,
   "metadata": {},
   "outputs": [
    {
     "data": {
      "text/plain": [
       "[<matplotlib.lines.Line2D at 0x2c844de1608>]"
      ]
     },
     "execution_count": 221,
     "metadata": {},
     "output_type": "execute_result"
    },
    {
     "data": {
      "image/png": "[encoded data removed]",
      "text/plain": [
       "<Figure size 432x288 with 1 Axes>"
      ]
     },
     "metadata": {
      "needs_background": "light"
     },
     "output_type": "display_data"
    }
   ],
   "source": [
    "plt.plot(x['max_floor'],y)"
   ]
  },
  {
   "cell_type": "code",
   "execution_count": 9,
   "metadata": {},
   "outputs": [],
   "source": [
    "df = df.reset_index()"
   ]
  },
  {
   "cell_type": "code",
   "execution_count": 10,
   "metadata": {},
   "outputs": [],
   "source": [
    "df = pd.get_dummies(df[df.columns.difference(['url','region','Unnamed: 0','street'])]) # nshvac columneri arkayutayan depqum datai crvacutyun@ mecanum e ayrdyunqum stacvum e vat RMSE"
   ]
  },
  {
   "cell_type": "code",
   "execution_count": 11,
   "metadata": {},
   "outputs": [
    {
     "data": {
      "text/html": [
       "<div>\n",
       "<style scoped>\n",
       "    .dataframe tbody tr th:only-of-type {\n",
       "        vertical-align: middle;\n",
       "    }\n",
       "\n",
       "    .dataframe tbody tr th {\n",
       "        vertical-align: top;\n",
       "    }\n",
       "\n",
       "    .dataframe thead th {\n",
       "        text-align: right;\n",
       "    }\n",
       "</style>\n",
       "<table border=\"1\" class=\"dataframe\">\n",
       "  <thead>\n",
       "    <tr style=\"text-align: right;\">\n",
       "      <th></th>\n",
       "      <th>area</th>\n",
       "      <th>ceiling_height</th>\n",
       "      <th>floor</th>\n",
       "      <th>index</th>\n",
       "      <th>max_floor</th>\n",
       "      <th>num_bathrooms</th>\n",
       "      <th>num_rooms</th>\n",
       "      <th>price</th>\n",
       "      <th>building_type_monolit</th>\n",
       "      <th>building_type_other</th>\n",
       "      <th>...</th>\n",
       "      <th>district_Center</th>\n",
       "      <th>district_Davtashen</th>\n",
       "      <th>district_Erebuni</th>\n",
       "      <th>district_Malatia-Sebastia</th>\n",
       "      <th>district_Nor Norq</th>\n",
       "      <th>district_Norq Marash</th>\n",
       "      <th>district_Nubarashen</th>\n",
       "      <th>district_Qanaqer-Zeytun</th>\n",
       "      <th>district_Shengavit</th>\n",
       "      <th>district_Vahagni district</th>\n",
       "    </tr>\n",
       "  </thead>\n",
       "  <tbody>\n",
       "    <tr>\n",
       "      <th>0</th>\n",
       "      <td>96.0</td>\n",
       "      <td>3.2</td>\n",
       "      <td>3</td>\n",
       "      <td>0</td>\n",
       "      <td>4</td>\n",
       "      <td>1</td>\n",
       "      <td>3</td>\n",
       "      <td>130000.0</td>\n",
       "      <td>0</td>\n",
       "      <td>0</td>\n",
       "      <td>...</td>\n",
       "      <td>1</td>\n",
       "      <td>0</td>\n",
       "      <td>0</td>\n",
       "      <td>0</td>\n",
       "      <td>0</td>\n",
       "      <td>0</td>\n",
       "      <td>0</td>\n",
       "      <td>0</td>\n",
       "      <td>0</td>\n",
       "      <td>0</td>\n",
       "    </tr>\n",
       "    <tr>\n",
       "      <th>1</th>\n",
       "      <td>78.0</td>\n",
       "      <td>2.8</td>\n",
       "      <td>2</td>\n",
       "      <td>1</td>\n",
       "      <td>5</td>\n",
       "      <td>1</td>\n",
       "      <td>3</td>\n",
       "      <td>65000.0</td>\n",
       "      <td>0</td>\n",
       "      <td>0</td>\n",
       "      <td>...</td>\n",
       "      <td>0</td>\n",
       "      <td>0</td>\n",
       "      <td>0</td>\n",
       "      <td>0</td>\n",
       "      <td>0</td>\n",
       "      <td>0</td>\n",
       "      <td>0</td>\n",
       "      <td>0</td>\n",
       "      <td>0</td>\n",
       "      <td>0</td>\n",
       "    </tr>\n",
       "    <tr>\n",
       "      <th>2</th>\n",
       "      <td>90.0</td>\n",
       "      <td>2.8</td>\n",
       "      <td>3</td>\n",
       "      <td>2</td>\n",
       "      <td>10</td>\n",
       "      <td>1</td>\n",
       "      <td>3</td>\n",
       "      <td>129000.0</td>\n",
       "      <td>0</td>\n",
       "      <td>0</td>\n",
       "      <td>...</td>\n",
       "      <td>1</td>\n",
       "      <td>0</td>\n",
       "      <td>0</td>\n",
       "      <td>0</td>\n",
       "      <td>0</td>\n",
       "      <td>0</td>\n",
       "      <td>0</td>\n",
       "      <td>0</td>\n",
       "      <td>0</td>\n",
       "      <td>0</td>\n",
       "    </tr>\n",
       "    <tr>\n",
       "      <th>3</th>\n",
       "      <td>53.0</td>\n",
       "      <td>3.0</td>\n",
       "      <td>5</td>\n",
       "      <td>3</td>\n",
       "      <td>14</td>\n",
       "      <td>1</td>\n",
       "      <td>2</td>\n",
       "      <td>52000.0</td>\n",
       "      <td>1</td>\n",
       "      <td>0</td>\n",
       "      <td>...</td>\n",
       "      <td>1</td>\n",
       "      <td>0</td>\n",
       "      <td>0</td>\n",
       "      <td>0</td>\n",
       "      <td>0</td>\n",
       "      <td>0</td>\n",
       "      <td>0</td>\n",
       "      <td>0</td>\n",
       "      <td>0</td>\n",
       "      <td>0</td>\n",
       "    </tr>\n",
       "    <tr>\n",
       "      <th>4</th>\n",
       "      <td>47.0</td>\n",
       "      <td>2.8</td>\n",
       "      <td>3</td>\n",
       "      <td>4</td>\n",
       "      <td>12</td>\n",
       "      <td>1</td>\n",
       "      <td>2</td>\n",
       "      <td>65000.0</td>\n",
       "      <td>0</td>\n",
       "      <td>0</td>\n",
       "      <td>...</td>\n",
       "      <td>1</td>\n",
       "      <td>0</td>\n",
       "      <td>0</td>\n",
       "      <td>0</td>\n",
       "      <td>0</td>\n",
       "      <td>0</td>\n",
       "      <td>0</td>\n",
       "      <td>0</td>\n",
       "      <td>0</td>\n",
       "      <td>0</td>\n",
       "    </tr>\n",
       "  </tbody>\n",
       "</table>\n",
       "<p>5 rows × 28 columns</p>\n",
       "</div>"
      ],
      "text/plain": [
       "   area  ceiling_height  floor  index  max_floor  num_bathrooms  num_rooms  \\\n",
       "0  96.0             3.2      3      0          4              1          3   \n",
       "1  78.0             2.8      2      1          5              1          3   \n",
       "2  90.0             2.8      3      2         10              1          3   \n",
       "3  53.0             3.0      5      3         14              1          2   \n",
       "4  47.0             2.8      3      4         12              1          2   \n",
       "\n",
       "      price  building_type_monolit  building_type_other  ...  district_Center  \\\n",
       "0  130000.0                      0                    0  ...                1   \n",
       "1   65000.0                      0                    0  ...                0   \n",
       "2  129000.0                      0                    0  ...                1   \n",
       "3   52000.0                      1                    0  ...                1   \n",
       "4   65000.0                      0                    0  ...                1   \n",
       "\n",
       "   district_Davtashen  district_Erebuni  district_Malatia-Sebastia  \\\n",
       "0                   0                 0                          0   \n",
       "1                   0                 0                          0   \n",
       "2                   0                 0                          0   \n",
       "3                   0                 0                          0   \n",
       "4                   0                 0                          0   \n",
       "\n",
       "   district_Nor Norq  district_Norq Marash  district_Nubarashen  \\\n",
       "0                  0                     0                    0   \n",
       "1                  0                     0                    0   \n",
       "2                  0                     0                    0   \n",
       "3                  0                     0                    0   \n",
       "4                  0                     0                    0   \n",
       "\n",
       "   district_Qanaqer-Zeytun  district_Shengavit  district_Vahagni district  \n",
       "0                        0                   0                          0  \n",
       "1                        0                   0                          0  \n",
       "2                        0                   0                          0  \n",
       "3                        0                   0                          0  \n",
       "4                        0                   0                          0  \n",
       "\n",
       "[5 rows x 28 columns]"
      ]
     },
     "execution_count": 11,
     "metadata": {},
     "output_type": "execute_result"
    }
   ],
   "source": [
    "df.head()"
   ]
  },
  {
   "cell_type": "markdown",
   "metadata": {},
   "source": [
    "# 1. train on all data"
   ]
  },
  {
   "cell_type": "code",
   "execution_count": 12,
   "metadata": {},
   "outputs": [],
   "source": [
    "xTrain,yTrain = (df[df.columns.difference(['price'])], df['price'])"
   ]
  },
  {
   "cell_type": "code",
   "execution_count": 13,
   "metadata": {},
   "outputs": [
    {
     "data": {
      "text/html": [
       "<div>\n",
       "<style scoped>\n",
       "    .dataframe tbody tr th:only-of-type {\n",
       "        vertical-align: middle;\n",
       "    }\n",
       "\n",
       "    .dataframe tbody tr th {\n",
       "        vertical-align: top;\n",
       "    }\n",
       "\n",
       "    .dataframe thead th {\n",
       "        text-align: right;\n",
       "    }\n",
       "</style>\n",
       "<table border=\"1\" class=\"dataframe\">\n",
       "  <thead>\n",
       "    <tr style=\"text-align: right;\">\n",
       "      <th></th>\n",
       "      <th>area</th>\n",
       "      <th>building_type_monolit</th>\n",
       "      <th>building_type_other</th>\n",
       "      <th>building_type_panel</th>\n",
       "      <th>building_type_stone</th>\n",
       "      <th>ceiling_height</th>\n",
       "      <th>condition_good</th>\n",
       "      <th>condition_newly repaired</th>\n",
       "      <th>condition_zero condition</th>\n",
       "      <th>district_Achapnyak</th>\n",
       "      <th>...</th>\n",
       "      <th>district_Norq Marash</th>\n",
       "      <th>district_Nubarashen</th>\n",
       "      <th>district_Qanaqer-Zeytun</th>\n",
       "      <th>district_Shengavit</th>\n",
       "      <th>district_Vahagni district</th>\n",
       "      <th>floor</th>\n",
       "      <th>index</th>\n",
       "      <th>max_floor</th>\n",
       "      <th>num_bathrooms</th>\n",
       "      <th>num_rooms</th>\n",
       "    </tr>\n",
       "  </thead>\n",
       "  <tbody>\n",
       "    <tr>\n",
       "      <th>0</th>\n",
       "      <td>96.0</td>\n",
       "      <td>0</td>\n",
       "      <td>0</td>\n",
       "      <td>0</td>\n",
       "      <td>1</td>\n",
       "      <td>3.2</td>\n",
       "      <td>0</td>\n",
       "      <td>1</td>\n",
       "      <td>0</td>\n",
       "      <td>0</td>\n",
       "      <td>...</td>\n",
       "      <td>0</td>\n",
       "      <td>0</td>\n",
       "      <td>0</td>\n",
       "      <td>0</td>\n",
       "      <td>0</td>\n",
       "      <td>3</td>\n",
       "      <td>0</td>\n",
       "      <td>4</td>\n",
       "      <td>1</td>\n",
       "      <td>3</td>\n",
       "    </tr>\n",
       "    <tr>\n",
       "      <th>1</th>\n",
       "      <td>78.0</td>\n",
       "      <td>0</td>\n",
       "      <td>0</td>\n",
       "      <td>0</td>\n",
       "      <td>1</td>\n",
       "      <td>2.8</td>\n",
       "      <td>1</td>\n",
       "      <td>0</td>\n",
       "      <td>0</td>\n",
       "      <td>0</td>\n",
       "      <td>...</td>\n",
       "      <td>0</td>\n",
       "      <td>0</td>\n",
       "      <td>0</td>\n",
       "      <td>0</td>\n",
       "      <td>0</td>\n",
       "      <td>2</td>\n",
       "      <td>1</td>\n",
       "      <td>5</td>\n",
       "      <td>1</td>\n",
       "      <td>3</td>\n",
       "    </tr>\n",
       "    <tr>\n",
       "      <th>2</th>\n",
       "      <td>90.0</td>\n",
       "      <td>0</td>\n",
       "      <td>0</td>\n",
       "      <td>1</td>\n",
       "      <td>0</td>\n",
       "      <td>2.8</td>\n",
       "      <td>1</td>\n",
       "      <td>0</td>\n",
       "      <td>0</td>\n",
       "      <td>0</td>\n",
       "      <td>...</td>\n",
       "      <td>0</td>\n",
       "      <td>0</td>\n",
       "      <td>0</td>\n",
       "      <td>0</td>\n",
       "      <td>0</td>\n",
       "      <td>3</td>\n",
       "      <td>2</td>\n",
       "      <td>10</td>\n",
       "      <td>1</td>\n",
       "      <td>3</td>\n",
       "    </tr>\n",
       "    <tr>\n",
       "      <th>3</th>\n",
       "      <td>53.0</td>\n",
       "      <td>1</td>\n",
       "      <td>0</td>\n",
       "      <td>0</td>\n",
       "      <td>0</td>\n",
       "      <td>3.0</td>\n",
       "      <td>0</td>\n",
       "      <td>1</td>\n",
       "      <td>0</td>\n",
       "      <td>0</td>\n",
       "      <td>...</td>\n",
       "      <td>0</td>\n",
       "      <td>0</td>\n",
       "      <td>0</td>\n",
       "      <td>0</td>\n",
       "      <td>0</td>\n",
       "      <td>5</td>\n",
       "      <td>3</td>\n",
       "      <td>14</td>\n",
       "      <td>1</td>\n",
       "      <td>2</td>\n",
       "    </tr>\n",
       "    <tr>\n",
       "      <th>4</th>\n",
       "      <td>47.0</td>\n",
       "      <td>0</td>\n",
       "      <td>0</td>\n",
       "      <td>1</td>\n",
       "      <td>0</td>\n",
       "      <td>2.8</td>\n",
       "      <td>0</td>\n",
       "      <td>1</td>\n",
       "      <td>0</td>\n",
       "      <td>0</td>\n",
       "      <td>...</td>\n",
       "      <td>0</td>\n",
       "      <td>0</td>\n",
       "      <td>0</td>\n",
       "      <td>0</td>\n",
       "      <td>0</td>\n",
       "      <td>3</td>\n",
       "      <td>4</td>\n",
       "      <td>12</td>\n",
       "      <td>1</td>\n",
       "      <td>2</td>\n",
       "    </tr>\n",
       "  </tbody>\n",
       "</table>\n",
       "<p>5 rows × 27 columns</p>\n",
       "</div>"
      ],
      "text/plain": [
       "   area  building_type_monolit  building_type_other  building_type_panel  \\\n",
       "0  96.0                      0                    0                    0   \n",
       "1  78.0                      0                    0                    0   \n",
       "2  90.0                      0                    0                    1   \n",
       "3  53.0                      1                    0                    0   \n",
       "4  47.0                      0                    0                    1   \n",
       "\n",
       "   building_type_stone  ceiling_height  condition_good  \\\n",
       "0                    1             3.2               0   \n",
       "1                    1             2.8               1   \n",
       "2                    0             2.8               1   \n",
       "3                    0             3.0               0   \n",
       "4                    0             2.8               0   \n",
       "\n",
       "   condition_newly repaired  condition_zero condition  district_Achapnyak  \\\n",
       "0                         1                         0                   0   \n",
       "1                         0                         0                   0   \n",
       "2                         0                         0                   0   \n",
       "3                         1                         0                   0   \n",
       "4                         1                         0                   0   \n",
       "\n",
       "   ...  district_Norq Marash  district_Nubarashen  district_Qanaqer-Zeytun  \\\n",
       "0  ...                     0                    0                        0   \n",
       "1  ...                     0                    0                        0   \n",
       "2  ...                     0                    0                        0   \n",
       "3  ...                     0                    0                        0   \n",
       "4  ...                     0                    0                        0   \n",
       "\n",
       "   district_Shengavit  district_Vahagni district  floor  index  max_floor  \\\n",
       "0                   0                          0      3      0          4   \n",
       "1                   0                          0      2      1          5   \n",
       "2                   0                          0      3      2         10   \n",
       "3                   0                          0      5      3         14   \n",
       "4                   0                          0      3      4         12   \n",
       "\n",
       "   num_bathrooms  num_rooms  \n",
       "0              1          3  \n",
       "1              1          3  \n",
       "2              1          3  \n",
       "3              1          2  \n",
       "4              1          2  \n",
       "\n",
       "[5 rows x 27 columns]"
      ]
     },
     "execution_count": 13,
     "metadata": {},
     "output_type": "execute_result"
    }
   ],
   "source": [
    "xTrain.head()"
   ]
  },
  {
   "cell_type": "code",
   "execution_count": 14,
   "metadata": {},
   "outputs": [
    {
     "data": {
      "text/plain": [
       "0    130000.0\n",
       "1     65000.0\n",
       "2    129000.0\n",
       "3     52000.0\n",
       "4     65000.0\n",
       "Name: price, dtype: float64"
      ]
     },
     "execution_count": 14,
     "metadata": {},
     "output_type": "execute_result"
    }
   ],
   "source": [
    "yTrain.head()"
   ]
  },
  {
   "cell_type": "code",
   "execution_count": 43,
   "metadata": {},
   "outputs": [],
   "source": [
    "regr = linear_model.LinearRegression()\n",
    "model = regr.fit(xTrain,yTrain) # The best result\n",
    "predict = model.predict(xTrain)"
   ]
  },
  {
   "cell_type": "code",
   "execution_count": 44,
   "metadata": {},
   "outputs": [
    {
     "data": {
      "text/plain": [
       "(array([ 1.17235195e+03,  1.25730843e+04,  2.56223423e+02, -1.10179606e+04,\n",
       "        -1.81134711e+03,  2.30690729e+04,  1.38695184e+03,  1.31934604e+04,\n",
       "        -1.45804122e+04, -8.77865323e+03,  1.12048391e+04, -1.05672492e+04,\n",
       "         3.96181090e+04, -3.62245149e+02, -6.32576960e+03, -7.60767525e+03,\n",
       "        -6.57385663e+03,  1.92571305e+04, -1.91089234e+04, -4.11604847e+02,\n",
       "        -8.50887511e+03, -1.83522630e+03, -1.08900043e+02, -1.50694427e-01,\n",
       "        -3.04368432e+00,  1.23094945e+04, -5.43141001e+03]),\n",
       " -98556.27717210079)"
      ]
     },
     "execution_count": 44,
     "metadata": {},
     "output_type": "execute_result"
    }
   ],
   "source": [
    "regr.coef_, regr.intercept_"
   ]
  },
  {
   "cell_type": "code",
   "execution_count": 45,
   "metadata": {},
   "outputs": [
    {
     "data": {
      "text/plain": [
       "(27, 28)"
      ]
     },
     "execution_count": 45,
     "metadata": {},
     "output_type": "execute_result"
    }
   ],
   "source": [
    "len(regr.coef_), len(df.columns)"
   ]
  },
  {
   "cell_type": "code",
   "execution_count": 48,
   "metadata": {},
   "outputs": [
    {
     "name": "stdout",
     "output_type": "stream",
     "text": [
      "28763.02264917254\n"
     ]
    }
   ],
   "source": [
    "print(np.sqrt(mean_squared_error(yTrain, predict)))"
   ]
  },
  {
   "cell_type": "code",
   "execution_count": 49,
   "metadata": {},
   "outputs": [
    {
     "name": "stdout",
     "output_type": "stream",
     "text": [
      "0.6807619073923448\n"
     ]
    }
   ],
   "source": [
    "print(r2_score(yTrain, predict))"
   ]
  },
  {
   "cell_type": "markdown",
   "metadata": {},
   "source": [
    "# 2. 10-Fold crossvalidation "
   ]
  },
  {
   "cell_type": "code",
   "execution_count": 20,
   "metadata": {},
   "outputs": [],
   "source": [
    "y = df['price']"
   ]
  },
  {
   "cell_type": "code",
   "execution_count": 21,
   "metadata": {},
   "outputs": [
    {
     "data": {
      "text/plain": [
       "0       130000.0\n",
       "1        65000.0\n",
       "2       129000.0\n",
       "3        52000.0\n",
       "4        65000.0\n",
       "          ...   \n",
       "4994     56000.0\n",
       "4995    115000.0\n",
       "4996    127000.0\n",
       "4997     41800.0\n",
       "4998     36000.0\n",
       "Name: price, Length: 4999, dtype: float64"
      ]
     },
     "execution_count": 21,
     "metadata": {},
     "output_type": "execute_result"
    }
   ],
   "source": [
    "y"
   ]
  },
  {
   "cell_type": "code",
   "execution_count": 22,
   "metadata": {},
   "outputs": [
    {
     "data": {
      "text/html": [
       "<div>\n",
       "<style scoped>\n",
       "    .dataframe tbody tr th:only-of-type {\n",
       "        vertical-align: middle;\n",
       "    }\n",
       "\n",
       "    .dataframe tbody tr th {\n",
       "        vertical-align: top;\n",
       "    }\n",
       "\n",
       "    .dataframe thead th {\n",
       "        text-align: right;\n",
       "    }\n",
       "</style>\n",
       "<table border=\"1\" class=\"dataframe\">\n",
       "  <thead>\n",
       "    <tr style=\"text-align: right;\">\n",
       "      <th></th>\n",
       "      <th>area</th>\n",
       "      <th>building_type_monolit</th>\n",
       "      <th>building_type_other</th>\n",
       "      <th>building_type_panel</th>\n",
       "      <th>building_type_stone</th>\n",
       "      <th>ceiling_height</th>\n",
       "      <th>condition_good</th>\n",
       "      <th>condition_newly repaired</th>\n",
       "      <th>condition_zero condition</th>\n",
       "      <th>district_Achapnyak</th>\n",
       "      <th>...</th>\n",
       "      <th>district_Norq Marash</th>\n",
       "      <th>district_Nubarashen</th>\n",
       "      <th>district_Qanaqer-Zeytun</th>\n",
       "      <th>district_Shengavit</th>\n",
       "      <th>district_Vahagni district</th>\n",
       "      <th>floor</th>\n",
       "      <th>index</th>\n",
       "      <th>max_floor</th>\n",
       "      <th>num_bathrooms</th>\n",
       "      <th>num_rooms</th>\n",
       "    </tr>\n",
       "  </thead>\n",
       "  <tbody>\n",
       "    <tr>\n",
       "      <th>0</th>\n",
       "      <td>96.0</td>\n",
       "      <td>0</td>\n",
       "      <td>0</td>\n",
       "      <td>0</td>\n",
       "      <td>1</td>\n",
       "      <td>3.2</td>\n",
       "      <td>0</td>\n",
       "      <td>1</td>\n",
       "      <td>0</td>\n",
       "      <td>0</td>\n",
       "      <td>...</td>\n",
       "      <td>0</td>\n",
       "      <td>0</td>\n",
       "      <td>0</td>\n",
       "      <td>0</td>\n",
       "      <td>0</td>\n",
       "      <td>3</td>\n",
       "      <td>0</td>\n",
       "      <td>4</td>\n",
       "      <td>1</td>\n",
       "      <td>3</td>\n",
       "    </tr>\n",
       "    <tr>\n",
       "      <th>1</th>\n",
       "      <td>78.0</td>\n",
       "      <td>0</td>\n",
       "      <td>0</td>\n",
       "      <td>0</td>\n",
       "      <td>1</td>\n",
       "      <td>2.8</td>\n",
       "      <td>1</td>\n",
       "      <td>0</td>\n",
       "      <td>0</td>\n",
       "      <td>0</td>\n",
       "      <td>...</td>\n",
       "      <td>0</td>\n",
       "      <td>0</td>\n",
       "      <td>0</td>\n",
       "      <td>0</td>\n",
       "      <td>0</td>\n",
       "      <td>2</td>\n",
       "      <td>1</td>\n",
       "      <td>5</td>\n",
       "      <td>1</td>\n",
       "      <td>3</td>\n",
       "    </tr>\n",
       "    <tr>\n",
       "      <th>2</th>\n",
       "      <td>90.0</td>\n",
       "      <td>0</td>\n",
       "      <td>0</td>\n",
       "      <td>1</td>\n",
       "      <td>0</td>\n",
       "      <td>2.8</td>\n",
       "      <td>1</td>\n",
       "      <td>0</td>\n",
       "      <td>0</td>\n",
       "      <td>0</td>\n",
       "      <td>...</td>\n",
       "      <td>0</td>\n",
       "      <td>0</td>\n",
       "      <td>0</td>\n",
       "      <td>0</td>\n",
       "      <td>0</td>\n",
       "      <td>3</td>\n",
       "      <td>2</td>\n",
       "      <td>10</td>\n",
       "      <td>1</td>\n",
       "      <td>3</td>\n",
       "    </tr>\n",
       "    <tr>\n",
       "      <th>3</th>\n",
       "      <td>53.0</td>\n",
       "      <td>1</td>\n",
       "      <td>0</td>\n",
       "      <td>0</td>\n",
       "      <td>0</td>\n",
       "      <td>3.0</td>\n",
       "      <td>0</td>\n",
       "      <td>1</td>\n",
       "      <td>0</td>\n",
       "      <td>0</td>\n",
       "      <td>...</td>\n",
       "      <td>0</td>\n",
       "      <td>0</td>\n",
       "      <td>0</td>\n",
       "      <td>0</td>\n",
       "      <td>0</td>\n",
       "      <td>5</td>\n",
       "      <td>3</td>\n",
       "      <td>14</td>\n",
       "      <td>1</td>\n",
       "      <td>2</td>\n",
       "    </tr>\n",
       "    <tr>\n",
       "      <th>4</th>\n",
       "      <td>47.0</td>\n",
       "      <td>0</td>\n",
       "      <td>0</td>\n",
       "      <td>1</td>\n",
       "      <td>0</td>\n",
       "      <td>2.8</td>\n",
       "      <td>0</td>\n",
       "      <td>1</td>\n",
       "      <td>0</td>\n",
       "      <td>0</td>\n",
       "      <td>...</td>\n",
       "      <td>0</td>\n",
       "      <td>0</td>\n",
       "      <td>0</td>\n",
       "      <td>0</td>\n",
       "      <td>0</td>\n",
       "      <td>3</td>\n",
       "      <td>4</td>\n",
       "      <td>12</td>\n",
       "      <td>1</td>\n",
       "      <td>2</td>\n",
       "    </tr>\n",
       "  </tbody>\n",
       "</table>\n",
       "<p>5 rows × 27 columns</p>\n",
       "</div>"
      ],
      "text/plain": [
       "   area  building_type_monolit  building_type_other  building_type_panel  \\\n",
       "0  96.0                      0                    0                    0   \n",
       "1  78.0                      0                    0                    0   \n",
       "2  90.0                      0                    0                    1   \n",
       "3  53.0                      1                    0                    0   \n",
       "4  47.0                      0                    0                    1   \n",
       "\n",
       "   building_type_stone  ceiling_height  condition_good  \\\n",
       "0                    1             3.2               0   \n",
       "1                    1             2.8               1   \n",
       "2                    0             2.8               1   \n",
       "3                    0             3.0               0   \n",
       "4                    0             2.8               0   \n",
       "\n",
       "   condition_newly repaired  condition_zero condition  district_Achapnyak  \\\n",
       "0                         1                         0                   0   \n",
       "1                         0                         0                   0   \n",
       "2                         0                         0                   0   \n",
       "3                         1                         0                   0   \n",
       "4                         1                         0                   0   \n",
       "\n",
       "   ...  district_Norq Marash  district_Nubarashen  district_Qanaqer-Zeytun  \\\n",
       "0  ...                     0                    0                        0   \n",
       "1  ...                     0                    0                        0   \n",
       "2  ...                     0                    0                        0   \n",
       "3  ...                     0                    0                        0   \n",
       "4  ...                     0                    0                        0   \n",
       "\n",
       "   district_Shengavit  district_Vahagni district  floor  index  max_floor  \\\n",
       "0                   0                          0      3      0          4   \n",
       "1                   0                          0      2      1          5   \n",
       "2                   0                          0      3      2         10   \n",
       "3                   0                          0      5      3         14   \n",
       "4                   0                          0      3      4         12   \n",
       "\n",
       "   num_bathrooms  num_rooms  \n",
       "0              1          3  \n",
       "1              1          3  \n",
       "2              1          3  \n",
       "3              1          2  \n",
       "4              1          2  \n",
       "\n",
       "[5 rows x 27 columns]"
      ]
     },
     "execution_count": 22,
     "metadata": {},
     "output_type": "execute_result"
    }
   ],
   "source": [
    "x = df[df.columns.difference(['price'])]\n",
    "x.head()"
   ]
  },
  {
   "cell_type": "code",
   "execution_count": null,
   "metadata": {},
   "outputs": [],
   "source": []
  },
  {
   "cell_type": "code",
   "execution_count": 23,
   "metadata": {},
   "outputs": [],
   "source": [
    "from sklearn.model_selection import cross_val_score, cross_val_predict \n",
    "lm = linear_model.LinearRegression()\n",
    "model = lm.fit(x, y)"
   ]
  },
  {
   "cell_type": "code",
   "execution_count": 28,
   "metadata": {},
   "outputs": [],
   "source": [
    "scores = cross_val_score(model, x, y, cv=10, scoring = 'neg_root_mean_squared_error')"
   ]
  },
  {
   "cell_type": "code",
   "execution_count": 29,
   "metadata": {},
   "outputs": [
    {
     "name": "stdout",
     "output_type": "stream",
     "text": [
      "[-29573.1477203  -29330.23979084 -26596.28732299 -29940.91501402\n",
      " -30635.96668622 -29158.05931126 -27777.36373514 -25816.82402536\n",
      " -32655.81473604 -26904.22671446]\n"
     ]
    }
   ],
   "source": [
    "print(scores)"
   ]
  },
  {
   "cell_type": "code",
   "execution_count": 30,
   "metadata": {},
   "outputs": [
    {
     "data": {
      "text/plain": [
       "<matplotlib.collections.PathCollection at 0x26957c48648>"
      ]
     },
     "execution_count": 30,
     "metadata": {},
     "output_type": "execute_result"
    },
    {
     "data": {
      "image/png": "[encoded data removed]",
      "text/plain": [
       "<Figure size 432x288 with 1 Axes>"
      ]
     },
     "metadata": {
      "needs_background": "light"
     },
     "output_type": "display_data"
    }
   ],
   "source": [
    "predictions = cross_val_predict(model, x, y, cv=10)\n",
    "plt.scatter(y, predictions)"
   ]
  },
  {
   "cell_type": "code",
   "execution_count": 31,
   "metadata": {},
   "outputs": [
    {
     "data": {
      "text/plain": [
       "[<matplotlib.lines.Line2D at 0x26957cba348>]"
      ]
     },
     "execution_count": 31,
     "metadata": {},
     "output_type": "execute_result"
    },
    {
     "data": {
      "image/png": "[encoded data removed]",
      "text/plain": [
       "<Figure size 432x288 with 1 Axes>"
      ]
     },
     "metadata": {
      "needs_background": "light"
     },
     "output_type": "display_data"
    }
   ],
   "source": [
    "plt.plot(x['max_floor'],y)"
   ]
  },
  {
   "cell_type": "code",
   "execution_count": 32,
   "metadata": {},
   "outputs": [
    {
     "data": {
      "text/plain": [
       "-28838.884505663642"
      ]
     },
     "execution_count": 32,
     "metadata": {},
     "output_type": "execute_result"
    }
   ],
   "source": [
    "np.mean(scores)"
   ]
  },
  {
   "cell_type": "markdown",
   "metadata": {},
   "source": [
    "# K-Fold\n"
   ]
  },
  {
   "cell_type": "code",
   "execution_count": 33,
   "metadata": {},
   "outputs": [
    {
     "data": {
      "text/plain": [
       "10"
      ]
     },
     "execution_count": 33,
     "metadata": {},
     "output_type": "execute_result"
    }
   ],
   "source": [
    "from sklearn.model_selection import KFold\n",
    "kf = KFold(n_splits=10)\n",
    "kf.get_n_splits(x)"
   ]
  },
  {
   "cell_type": "code",
   "execution_count": 34,
   "metadata": {},
   "outputs": [],
   "source": [
    "test_rmse = []\n",
    "train_rmse = []\n",
    "for train_index, test_index in kf.split(x):\n",
    "   \n",
    "    X_train, X_test = x.iloc[train_index], x.iloc[test_index]\n",
    "    y_train, y_test = y[train_index], y[test_index]\n",
    "    \n",
    "    lm = linear_model.LinearRegression()\n",
    "    model = lm.fit(X_train, y_train)\n",
    "    predictions = lm.predict(X_test)\n",
    "    predictions_train = lm.predict(X_train)\n",
    "    \n",
    "    test_rmse.append(np.sqrt(mean_squared_error(y_test, predictions)))\n",
    "    train_rmse.append(np.sqrt(mean_squared_error(y_train, predictions_train)))"
   ]
  },
  {
   "cell_type": "code",
   "execution_count": 35,
   "metadata": {},
   "outputs": [
    {
     "name": "stdout",
     "output_type": "stream",
     "text": [
      "[28677.08593589231, 28710.564452460345, 29000.50703814251, 28635.831999804068, 28557.934839191996, 28725.733521261747, 28876.12956630589, 29077.20307908904, 28313.551951433856, 28974.98681054548]\n",
      "[29573.14772030295, 29330.23979084434, 26596.287322991735, 29940.915014019825, 30635.966686219275, 29158.05931126005, 27777.36373513778, 25816.824025359136, 32655.814736044333, 26904.226714457007]\n"
     ]
    }
   ],
   "source": [
    "print(train_rmse)\n",
    "print(test_rmse)"
   ]
  },
  {
   "cell_type": "code",
   "execution_count": 36,
   "metadata": {},
   "outputs": [
    {
     "data": {
      "text/plain": [
       "28754.952919412724"
      ]
     },
     "execution_count": 36,
     "metadata": {},
     "output_type": "execute_result"
    }
   ],
   "source": [
    "np.mean(train_rmse)"
   ]
  },
  {
   "cell_type": "code",
   "execution_count": 37,
   "metadata": {},
   "outputs": [
    {
     "data": {
      "text/plain": [
       "28838.884505663642"
      ]
     },
     "execution_count": 37,
     "metadata": {},
     "output_type": "execute_result"
    }
   ],
   "source": [
    "np.mean(test_rmse)"
   ]
  },
  {
   "cell_type": "markdown",
   "metadata": {},
   "source": [
    "# 3. Ridge regression"
   ]
  },
  {
   "cell_type": "code",
   "execution_count": 38,
   "metadata": {},
   "outputs": [],
   "source": [
    "from sklearn.linear_model import Ridge"
   ]
  },
  {
   "cell_type": "code",
   "execution_count": 39,
   "metadata": {},
   "outputs": [],
   "source": [
    "rr = Ridge(alpha=0.00001) # alphai tasnordakan karg@ mecacnelis ardyunq@ motenum e 1-in, sakayn harc e te inchu alphan = 0 -i depqum amboxjovin havasar chi linum\n",
    "rr.fit(x, y)\n",
    "w = rr.coef_"
   ]
  },
  {
   "cell_type": "code",
   "execution_count": 40,
   "metadata": {},
   "outputs": [
    {
     "data": {
      "text/plain": [
       "array([ 1.17235196e+03,  1.25730786e+04,  2.56217764e+02, -1.10179663e+04,\n",
       "       -1.81135268e+03,  2.30690706e+04,  1.38695114e+03,  1.31934597e+04,\n",
       "       -1.45804124e+04, -8.77866404e+03,  1.12048278e+04, -1.05672599e+04,\n",
       "        3.96180976e+04, -3.62256313e+02, -6.32577997e+03, -7.60768619e+03,\n",
       "       -6.57386761e+03,  1.92570803e+04, -1.91087436e+04, -4.11616075e+02,\n",
       "       -8.50888583e+03, -1.83522828e+03, -1.08900052e+02, -1.50694404e-01,\n",
       "       -3.04368921e+00,  1.23094948e+04, -5.43141020e+03])"
      ]
     },
     "execution_count": 40,
     "metadata": {},
     "output_type": "execute_result"
    }
   ],
   "source": [
    "w"
   ]
  },
  {
   "cell_type": "code",
   "execution_count": 41,
   "metadata": {},
   "outputs": [
    {
     "data": {
      "text/plain": [
       "[<matplotlib.lines.Line2D at 0x26959427148>]"
      ]
     },
     "execution_count": 41,
     "metadata": {},
     "output_type": "execute_result"
    },
    {
     "data": {
      "image/png": "[encoded data removed]",
      "text/plain": [
       "<Figure size 432x288 with 1 Axes>"
      ]
     },
     "metadata": {
      "needs_background": "light"
     },
     "output_type": "display_data"
    }
   ],
   "source": [
    "plt.scatter(x.iloc[:,0], y)\n",
    "plt.plot(x.iloc[:,0], w[0]*x.iloc[:,0], c='red')"
   ]
  },
  {
   "cell_type": "code",
   "execution_count": 42,
   "metadata": {},
   "outputs": [
    {
     "name": "stdout",
     "output_type": "stream",
     "text": [
      "28763.022649172697\n"
     ]
    }
   ],
   "source": [
    "rr.predict(x)\n",
    "print(np.sqrt(mean_squared_error(y, rr.predict(x))))"
   ]
  },
  {
   "cell_type": "markdown",
   "metadata": {},
   "source": [
    "# The best result is 1 (RMSE = 28763.02264917254)"
   ]
  },
  {
   "cell_type": "code",
   "execution_count": null,
   "metadata": {},
   "outputs": [],
   "source": []
  },
  {
   "cell_type": "code",
   "execution_count": null,
   "metadata": {},
   "outputs": [],
   "source": []
  }
 ],
 "metadata": {
  "kernelspec": {
   "display_name": "Python 3",
   "language": "python",
   "name": "python3"
  },
  "language_info": {
   "codemirror_mode": {
    "name": "ipython",
    "version": 3
   },
   "file_extension": ".py",
   "mimetype": "text/x-python",
   "name": "python",
   "nbconvert_exporter": "python",
   "pygments_lexer": "ipython3",
   "version": "3.7.6"
  }
 },
 "nbformat": 4,
 "nbformat_minor": 4
}
