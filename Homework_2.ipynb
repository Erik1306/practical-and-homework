{
 "cells": [
  {
   "cell_type": "markdown",
   "metadata": {},
   "source": [
    "# Homework"
   ]
  },
  {
   "cell_type": "markdown",
   "metadata": {},
   "source": [
    "## Problem 1"
   ]
  },
  {
   "cell_type": "code",
   "execution_count": 1,
   "metadata": {},
   "outputs": [
    {
     "name": "stdout",
     "output_type": "stream",
     "text": [
      "8.3\n"
     ]
    }
   ],
   "source": [
    "def my_max(*args):\n",
    "    if len(args)>0:\n",
    "        max_ = args[0]\n",
    "        for i in args:\n",
    "            if max_<i:\n",
    "                max_=i\n",
    "        return max_\n",
    "    else:\n",
    "        return \"no numbers given\"\n",
    "print(my_max(-1, 5, -10, 8.3, 3, 0, 5.7))          "
   ]
  },
  {
   "cell_type": "markdown",
   "metadata": {},
   "source": [
    "## Problem 2"
   ]
  },
  {
   "cell_type": "code",
   "execution_count": 2,
   "metadata": {},
   "outputs": [
    {
     "name": "stdout",
     "output_type": "stream",
     "text": [
      "5 5 3 2 3 4 6 6 7\n",
      "[5, 5, 3, 2, 3, 4, 6, 6, 7]\n",
      "[5, 3, 2, 4, 6, 7]\n"
     ]
    }
   ],
   "source": [
    "list1 = [int(i) for i in input().split()]\n",
    "print(list1)\n",
    "list2 = []\n",
    "for i in list1:\n",
    "    if i  not in list2:\n",
    "        list2.append(i)\n",
    "print(list2)\n",
    "        \n",
    "    \n",
    "\n"
   ]
  },
  {
   "cell_type": "markdown",
   "metadata": {},
   "source": [
    "## Problem 3"
   ]
  },
  {
   "cell_type": "code",
   "execution_count": 3,
   "metadata": {},
   "outputs": [
    {
     "name": "stdout",
     "output_type": "stream",
     "text": [
      "8\n"
     ]
    }
   ],
   "source": [
    "def my_fib(n):\n",
    "    l = []\n",
    "    for i in range(n):\n",
    "        if i == 0:\n",
    "            l.append(i)\n",
    "        elif i==1:\n",
    "            l.append(i)\n",
    "        else:\n",
    "            a = l[i-2]+ l[i-1]\n",
    "            l.append(a)\n",
    "    print(l[n-1])\n",
    "my_fib(7)\n",
    "        \n",
    "\n"
   ]
  },
  {
   "cell_type": "markdown",
   "metadata": {},
   "source": [
    "## Problem 4"
   ]
  },
  {
   "cell_type": "code",
   "execution_count": 4,
   "metadata": {},
   "outputs": [
    {
     "name": "stdout",
     "output_type": "stream",
     "text": [
      "Welcome dear Erna\n",
      "Bye everyone!\n",
      "My favourite number is 8\n",
      "saasd\n"
     ]
    },
    {
     "data": {
      "text/plain": [
       "121"
      ]
     },
     "execution_count": 4,
     "metadata": {},
     "output_type": "execute_result"
    }
   ],
   "source": [
    "class Person:\n",
    "    def __init__(self, name, last_name, age, student):\n",
    "        self.name = name\n",
    "        self.last_name = last_name\n",
    "        self.age = age\n",
    "        self.student = student\n",
    "    def Greeting(self, second_person):\n",
    "        print(\"Welcome dear \" + second_person.name)\n",
    "    def Goodbye(self):\n",
    "        print(\"Bye everyone!\")\n",
    "    def Favourite_num(self, num1):\n",
    "        self.num1 = num1\n",
    "        print(\"My favourite number is \" + str(num1))\n",
    "    def Read_file(self, filename):\n",
    "        f = open(filename + '.txt')\n",
    "        print (f.read())\n",
    "    def set_code(self, password):\n",
    "        self.__password = password\n",
    "    def get_code(self):\n",
    "        return self.__password\n",
    "\n",
    "            \n",
    "one_person = Person(\"Erik\", \"Hovhannisyan\", 25, True)\n",
    "second_person = Person(\"Erna\", \"Abgaryan\", 20, False)\n",
    "one_person.Greeting(second_person)\n",
    "second_person.Goodbye()\n",
    "second_person.Favourite_num(8)\n",
    "second_person.Read_file('file')\n",
    "second_person.set_code(121)\n",
    "second_person.get_code()"
   ]
  },
  {
   "cell_type": "markdown",
   "metadata": {},
   "source": [
    "## Problem 5"
   ]
  },
  {
   "cell_type": "code",
   "execution_count": 7,
   "metadata": {},
   "outputs": [
    {
     "name": "stdout",
     "output_type": "stream",
     "text": [
      "8\n",
      "-2\n",
      "15\n",
      "0.6\n"
     ]
    }
   ],
   "source": [
    "class Calculation:\n",
    "    def __init__(self, x, y):\n",
    "        self.x = x\n",
    "        self.y = y\n",
    "    def addition(self):\n",
    "        print(self.x + self.y)\n",
    "    def subtraction(self): \n",
    "        print(self.x - self.y)\n",
    "class MyCalculation(Calculation):\n",
    "    def __init__(self, x, y):\n",
    "        super().__init__(x,y)\n",
    "    def multiplication(self):\n",
    "        print(self.x*self.y)\n",
    "    def division(self):\n",
    "        print(self.x/self.y)\n",
    "a = MyCalculation(3, 5)\n",
    "a.addition()\n",
    "a.subtraction()\n",
    "a.multiplication()\n",
    "a.division()\n",
    "        "
   ]
  },
  {
   "cell_type": "code",
   "execution_count": null,
   "metadata": {},
   "outputs": [],
   "source": []
  }
 ],
 "metadata": {
  "kernelspec": {
   "display_name": "Python 3",
   "language": "python",
   "name": "python3"
  },
  "language_info": {
   "codemirror_mode": {
    "name": "ipython",
    "version": 3
   },
   "file_extension": ".py",
   "mimetype": "text/x-python",
   "name": "python",
   "nbconvert_exporter": "python",
   "pygments_lexer": "ipython3",
   "version": "3.7.6"
  }
 },
 "nbformat": 4,
 "nbformat_minor": 4
}
