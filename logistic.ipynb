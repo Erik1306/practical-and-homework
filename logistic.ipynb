{
 "cells": [
  {
   "cell_type": "markdown",
   "metadata": {},
   "source": [
    "# Logistic Regression"
   ]
  },
  {
   "cell_type": "code",
   "execution_count": 28,
   "metadata": {},
   "outputs": [],
   "source": [
    "import warnings\n",
    "warnings.filterwarnings('ignore')"
   ]
  },
  {
   "cell_type": "code",
   "execution_count": 29,
   "metadata": {},
   "outputs": [],
   "source": [
    "from sklearn.datasets import load_iris\n",
    "from sklearn.linear_model import LogisticRegression\n",
    "X, y = load_iris(return_X_y=True)\n",
    "clf = LogisticRegression(random_state=0).fit(X, y)"
   ]
  },
  {
   "cell_type": "code",
   "execution_count": 30,
   "metadata": {},
   "outputs": [
    {
     "data": {
      "text/plain": [
       "array([0, 0])"
      ]
     },
     "execution_count": 30,
     "metadata": {},
     "output_type": "execute_result"
    }
   ],
   "source": [
    "clf.predict(X[:2, :])"
   ]
  },
  {
   "cell_type": "code",
   "execution_count": 31,
   "metadata": {},
   "outputs": [
    {
     "data": {
      "text/plain": [
       "array([[9.81799057e-01, 1.82009288e-02, 1.43502503e-08],\n",
       "       [9.71722113e-01, 2.82778573e-02, 3.00201040e-08]])"
      ]
     },
     "execution_count": 31,
     "metadata": {},
     "output_type": "execute_result"
    }
   ],
   "source": [
    "clf.predict_proba(X[:2, :])"
   ]
  },
  {
   "cell_type": "code",
   "execution_count": 32,
   "metadata": {},
   "outputs": [
    {
     "data": {
      "text/plain": [
       "0.9733333333333334"
      ]
     },
     "execution_count": 32,
     "metadata": {},
     "output_type": "execute_result"
    }
   ],
   "source": [
    "clf.score(X, y)"
   ]
  },
  {
   "cell_type": "markdown",
   "metadata": {},
   "source": [
    "# Confusion Matrix"
   ]
  },
  {
   "cell_type": "code",
   "execution_count": 33,
   "metadata": {},
   "outputs": [],
   "source": [
    "from sklearn.metrics import confusion_matrix"
   ]
  },
  {
   "cell_type": "code",
   "execution_count": 34,
   "metadata": {},
   "outputs": [
    {
     "data": {
      "text/plain": [
       "array([[50,  0,  0],\n",
       "       [ 0, 47,  3],\n",
       "       [ 0,  1, 49]], dtype=int64)"
      ]
     },
     "execution_count": 34,
     "metadata": {},
     "output_type": "execute_result"
    }
   ],
   "source": [
    "confusion_matrix(y, clf.predict(X))"
   ]
  },
  {
   "cell_type": "code",
   "execution_count": 35,
   "metadata": {},
   "outputs": [
    {
     "data": {
      "text/plain": [
       "array([[1.  , 0.  , 0.  ],\n",
       "       [0.  , 0.94, 0.06],\n",
       "       [0.  , 0.02, 0.98]])"
      ]
     },
     "execution_count": 35,
     "metadata": {},
     "output_type": "execute_result"
    }
   ],
   "source": [
    "confusion_matrix(y, clf.predict(X), normalize='true')"
   ]
  },
  {
   "cell_type": "markdown",
   "metadata": {},
   "source": [
    "# 1. Solve classification problem using 'classification.csv' dataset"
   ]
  },
  {
   "cell_type": "markdown",
   "metadata": {},
   "source": [
    "##### target variable is 'default'. Apply feature selection, feature scaling, cross validation etc. (anything you think is needed)"
   ]
  },
  {
   "cell_type": "code",
   "execution_count": 36,
   "metadata": {},
   "outputs": [],
   "source": [
    "import pandas as pd\n",
    "import numpy as np\n",
    "import matplotlib.pyplot as plt\n",
    "from sklearn import linear_model"
   ]
  },
  {
   "cell_type": "code",
   "execution_count": 37,
   "metadata": {},
   "outputs": [
    {
     "data": {
      "text/html": [
       "<div>\n",
       "<style scoped>\n",
       "    .dataframe tbody tr th:only-of-type {\n",
       "        vertical-align: middle;\n",
       "    }\n",
       "\n",
       "    .dataframe tbody tr th {\n",
       "        vertical-align: top;\n",
       "    }\n",
       "\n",
       "    .dataframe thead th {\n",
       "        text-align: right;\n",
       "    }\n",
       "</style>\n",
       "<table border=\"1\" class=\"dataframe\">\n",
       "  <thead>\n",
       "    <tr style=\"text-align: right;\">\n",
       "      <th></th>\n",
       "      <th>age</th>\n",
       "      <th>ed</th>\n",
       "      <th>employ</th>\n",
       "      <th>address</th>\n",
       "      <th>income</th>\n",
       "      <th>debtinc</th>\n",
       "      <th>creddebt</th>\n",
       "      <th>othdebt</th>\n",
       "      <th>default</th>\n",
       "    </tr>\n",
       "  </thead>\n",
       "  <tbody>\n",
       "    <tr>\n",
       "      <th>0</th>\n",
       "      <td>41</td>\n",
       "      <td>college degree</td>\n",
       "      <td>17</td>\n",
       "      <td>12</td>\n",
       "      <td>176</td>\n",
       "      <td>9.3</td>\n",
       "      <td>11.359392</td>\n",
       "      <td>5.008608</td>\n",
       "      <td>1</td>\n",
       "    </tr>\n",
       "    <tr>\n",
       "      <th>1</th>\n",
       "      <td>27</td>\n",
       "      <td>no high school</td>\n",
       "      <td>10</td>\n",
       "      <td>6</td>\n",
       "      <td>31</td>\n",
       "      <td>17.3</td>\n",
       "      <td>1.362202</td>\n",
       "      <td>4.000798</td>\n",
       "      <td>0</td>\n",
       "    </tr>\n",
       "    <tr>\n",
       "      <th>2</th>\n",
       "      <td>40</td>\n",
       "      <td>no high school</td>\n",
       "      <td>15</td>\n",
       "      <td>14</td>\n",
       "      <td>55</td>\n",
       "      <td>5.5</td>\n",
       "      <td>0.856075</td>\n",
       "      <td>2.168925</td>\n",
       "      <td>0</td>\n",
       "    </tr>\n",
       "    <tr>\n",
       "      <th>3</th>\n",
       "      <td>41</td>\n",
       "      <td>no high school</td>\n",
       "      <td>15</td>\n",
       "      <td>14</td>\n",
       "      <td>120</td>\n",
       "      <td>2.9</td>\n",
       "      <td>2.658720</td>\n",
       "      <td>0.821280</td>\n",
       "      <td>0</td>\n",
       "    </tr>\n",
       "    <tr>\n",
       "      <th>4</th>\n",
       "      <td>24</td>\n",
       "      <td>high school</td>\n",
       "      <td>2</td>\n",
       "      <td>0</td>\n",
       "      <td>28</td>\n",
       "      <td>17.3</td>\n",
       "      <td>1.787436</td>\n",
       "      <td>3.056564</td>\n",
       "      <td>1</td>\n",
       "    </tr>\n",
       "  </tbody>\n",
       "</table>\n",
       "</div>"
      ],
      "text/plain": [
       "   age              ed  employ  address  income  debtinc   creddebt   othdebt  \\\n",
       "0   41  college degree      17       12     176      9.3  11.359392  5.008608   \n",
       "1   27  no high school      10        6      31     17.3   1.362202  4.000798   \n",
       "2   40  no high school      15       14      55      5.5   0.856075  2.168925   \n",
       "3   41  no high school      15       14     120      2.9   2.658720  0.821280   \n",
       "4   24     high school       2        0      28     17.3   1.787436  3.056564   \n",
       "\n",
       "   default  \n",
       "0        1  \n",
       "1        0  \n",
       "2        0  \n",
       "3        0  \n",
       "4        1  "
      ]
     },
     "execution_count": 37,
     "metadata": {},
     "output_type": "execute_result"
    }
   ],
   "source": [
    "dt = pd.read_csv('classification.csv')\n",
    "dt.head(5)"
   ]
  },
  {
   "cell_type": "code",
   "execution_count": 38,
   "metadata": {},
   "outputs": [
    {
     "data": {
      "text/html": [
       "<div>\n",
       "<style scoped>\n",
       "    .dataframe tbody tr th:only-of-type {\n",
       "        vertical-align: middle;\n",
       "    }\n",
       "\n",
       "    .dataframe tbody tr th {\n",
       "        vertical-align: top;\n",
       "    }\n",
       "\n",
       "    .dataframe thead th {\n",
       "        text-align: right;\n",
       "    }\n",
       "</style>\n",
       "<table border=\"1\" class=\"dataframe\">\n",
       "  <thead>\n",
       "    <tr style=\"text-align: right;\">\n",
       "      <th></th>\n",
       "      <th>age</th>\n",
       "      <th>employ</th>\n",
       "      <th>address</th>\n",
       "      <th>income</th>\n",
       "      <th>debtinc</th>\n",
       "      <th>creddebt</th>\n",
       "      <th>othdebt</th>\n",
       "      <th>default</th>\n",
       "    </tr>\n",
       "  </thead>\n",
       "  <tbody>\n",
       "    <tr>\n",
       "      <th>age</th>\n",
       "      <td>1.000000</td>\n",
       "      <td>0.536497</td>\n",
       "      <td>0.597591</td>\n",
       "      <td>0.478710</td>\n",
       "      <td>0.016398</td>\n",
       "      <td>0.295207</td>\n",
       "      <td>0.340217</td>\n",
       "      <td>-0.137657</td>\n",
       "    </tr>\n",
       "    <tr>\n",
       "      <th>employ</th>\n",
       "      <td>0.536497</td>\n",
       "      <td>1.000000</td>\n",
       "      <td>0.322334</td>\n",
       "      <td>0.619681</td>\n",
       "      <td>-0.031182</td>\n",
       "      <td>0.403694</td>\n",
       "      <td>0.406091</td>\n",
       "      <td>-0.282978</td>\n",
       "    </tr>\n",
       "    <tr>\n",
       "      <th>address</th>\n",
       "      <td>0.597591</td>\n",
       "      <td>0.322334</td>\n",
       "      <td>1.000000</td>\n",
       "      <td>0.316245</td>\n",
       "      <td>0.011323</td>\n",
       "      <td>0.208435</td>\n",
       "      <td>0.226514</td>\n",
       "      <td>-0.164451</td>\n",
       "    </tr>\n",
       "    <tr>\n",
       "      <th>income</th>\n",
       "      <td>0.478710</td>\n",
       "      <td>0.619681</td>\n",
       "      <td>0.316245</td>\n",
       "      <td>1.000000</td>\n",
       "      <td>-0.026777</td>\n",
       "      <td>0.570199</td>\n",
       "      <td>0.610659</td>\n",
       "      <td>-0.070970</td>\n",
       "    </tr>\n",
       "    <tr>\n",
       "      <th>debtinc</th>\n",
       "      <td>0.016398</td>\n",
       "      <td>-0.031182</td>\n",
       "      <td>0.011323</td>\n",
       "      <td>-0.026777</td>\n",
       "      <td>1.000000</td>\n",
       "      <td>0.501767</td>\n",
       "      <td>0.584870</td>\n",
       "      <td>0.389575</td>\n",
       "    </tr>\n",
       "    <tr>\n",
       "      <th>creddebt</th>\n",
       "      <td>0.295207</td>\n",
       "      <td>0.403694</td>\n",
       "      <td>0.208435</td>\n",
       "      <td>0.570199</td>\n",
       "      <td>0.501767</td>\n",
       "      <td>1.000000</td>\n",
       "      <td>0.633104</td>\n",
       "      <td>0.244740</td>\n",
       "    </tr>\n",
       "    <tr>\n",
       "      <th>othdebt</th>\n",
       "      <td>0.340217</td>\n",
       "      <td>0.406091</td>\n",
       "      <td>0.226514</td>\n",
       "      <td>0.610659</td>\n",
       "      <td>0.584870</td>\n",
       "      <td>0.633104</td>\n",
       "      <td>1.000000</td>\n",
       "      <td>0.145713</td>\n",
       "    </tr>\n",
       "    <tr>\n",
       "      <th>default</th>\n",
       "      <td>-0.137657</td>\n",
       "      <td>-0.282978</td>\n",
       "      <td>-0.164451</td>\n",
       "      <td>-0.070970</td>\n",
       "      <td>0.389575</td>\n",
       "      <td>0.244740</td>\n",
       "      <td>0.145713</td>\n",
       "      <td>1.000000</td>\n",
       "    </tr>\n",
       "  </tbody>\n",
       "</table>\n",
       "</div>"
      ],
      "text/plain": [
       "               age    employ   address    income   debtinc  creddebt  \\\n",
       "age       1.000000  0.536497  0.597591  0.478710  0.016398  0.295207   \n",
       "employ    0.536497  1.000000  0.322334  0.619681 -0.031182  0.403694   \n",
       "address   0.597591  0.322334  1.000000  0.316245  0.011323  0.208435   \n",
       "income    0.478710  0.619681  0.316245  1.000000 -0.026777  0.570199   \n",
       "debtinc   0.016398 -0.031182  0.011323 -0.026777  1.000000  0.501767   \n",
       "creddebt  0.295207  0.403694  0.208435  0.570199  0.501767  1.000000   \n",
       "othdebt   0.340217  0.406091  0.226514  0.610659  0.584870  0.633104   \n",
       "default  -0.137657 -0.282978 -0.164451 -0.070970  0.389575  0.244740   \n",
       "\n",
       "           othdebt   default  \n",
       "age       0.340217 -0.137657  \n",
       "employ    0.406091 -0.282978  \n",
       "address   0.226514 -0.164451  \n",
       "income    0.610659 -0.070970  \n",
       "debtinc   0.584870  0.389575  \n",
       "creddebt  0.633104  0.244740  \n",
       "othdebt   1.000000  0.145713  \n",
       "default   0.145713  1.000000  "
      ]
     },
     "execution_count": 38,
     "metadata": {},
     "output_type": "execute_result"
    }
   ],
   "source": [
    "dt.corr()"
   ]
  },
  {
   "cell_type": "code",
   "execution_count": 39,
   "metadata": {},
   "outputs": [
    {
     "data": {
      "text/html": [
       "<div>\n",
       "<style scoped>\n",
       "    .dataframe tbody tr th:only-of-type {\n",
       "        vertical-align: middle;\n",
       "    }\n",
       "\n",
       "    .dataframe tbody tr th {\n",
       "        vertical-align: top;\n",
       "    }\n",
       "\n",
       "    .dataframe thead th {\n",
       "        text-align: right;\n",
       "    }\n",
       "</style>\n",
       "<table border=\"1\" class=\"dataframe\">\n",
       "  <thead>\n",
       "    <tr style=\"text-align: right;\">\n",
       "      <th></th>\n",
       "      <th>age</th>\n",
       "      <th>employ</th>\n",
       "      <th>address</th>\n",
       "      <th>income</th>\n",
       "      <th>debtinc</th>\n",
       "      <th>creddebt</th>\n",
       "      <th>othdebt</th>\n",
       "      <th>default</th>\n",
       "      <th>ed_college degree</th>\n",
       "      <th>ed_high school</th>\n",
       "      <th>ed_no high school</th>\n",
       "      <th>ed_postgraduate</th>\n",
       "      <th>ed_undergraduate</th>\n",
       "    </tr>\n",
       "  </thead>\n",
       "  <tbody>\n",
       "    <tr>\n",
       "      <th>0</th>\n",
       "      <td>41</td>\n",
       "      <td>17</td>\n",
       "      <td>12</td>\n",
       "      <td>176</td>\n",
       "      <td>9.3</td>\n",
       "      <td>11.359392</td>\n",
       "      <td>5.008608</td>\n",
       "      <td>1</td>\n",
       "      <td>1</td>\n",
       "      <td>0</td>\n",
       "      <td>0</td>\n",
       "      <td>0</td>\n",
       "      <td>0</td>\n",
       "    </tr>\n",
       "    <tr>\n",
       "      <th>1</th>\n",
       "      <td>27</td>\n",
       "      <td>10</td>\n",
       "      <td>6</td>\n",
       "      <td>31</td>\n",
       "      <td>17.3</td>\n",
       "      <td>1.362202</td>\n",
       "      <td>4.000798</td>\n",
       "      <td>0</td>\n",
       "      <td>0</td>\n",
       "      <td>0</td>\n",
       "      <td>1</td>\n",
       "      <td>0</td>\n",
       "      <td>0</td>\n",
       "    </tr>\n",
       "    <tr>\n",
       "      <th>2</th>\n",
       "      <td>40</td>\n",
       "      <td>15</td>\n",
       "      <td>14</td>\n",
       "      <td>55</td>\n",
       "      <td>5.5</td>\n",
       "      <td>0.856075</td>\n",
       "      <td>2.168925</td>\n",
       "      <td>0</td>\n",
       "      <td>0</td>\n",
       "      <td>0</td>\n",
       "      <td>1</td>\n",
       "      <td>0</td>\n",
       "      <td>0</td>\n",
       "    </tr>\n",
       "    <tr>\n",
       "      <th>3</th>\n",
       "      <td>41</td>\n",
       "      <td>15</td>\n",
       "      <td>14</td>\n",
       "      <td>120</td>\n",
       "      <td>2.9</td>\n",
       "      <td>2.658720</td>\n",
       "      <td>0.821280</td>\n",
       "      <td>0</td>\n",
       "      <td>0</td>\n",
       "      <td>0</td>\n",
       "      <td>1</td>\n",
       "      <td>0</td>\n",
       "      <td>0</td>\n",
       "    </tr>\n",
       "    <tr>\n",
       "      <th>4</th>\n",
       "      <td>24</td>\n",
       "      <td>2</td>\n",
       "      <td>0</td>\n",
       "      <td>28</td>\n",
       "      <td>17.3</td>\n",
       "      <td>1.787436</td>\n",
       "      <td>3.056564</td>\n",
       "      <td>1</td>\n",
       "      <td>0</td>\n",
       "      <td>1</td>\n",
       "      <td>0</td>\n",
       "      <td>0</td>\n",
       "      <td>0</td>\n",
       "    </tr>\n",
       "    <tr>\n",
       "      <th>...</th>\n",
       "      <td>...</td>\n",
       "      <td>...</td>\n",
       "      <td>...</td>\n",
       "      <td>...</td>\n",
       "      <td>...</td>\n",
       "      <td>...</td>\n",
       "      <td>...</td>\n",
       "      <td>...</td>\n",
       "      <td>...</td>\n",
       "      <td>...</td>\n",
       "      <td>...</td>\n",
       "      <td>...</td>\n",
       "      <td>...</td>\n",
       "    </tr>\n",
       "    <tr>\n",
       "      <th>695</th>\n",
       "      <td>36</td>\n",
       "      <td>6</td>\n",
       "      <td>15</td>\n",
       "      <td>27</td>\n",
       "      <td>4.6</td>\n",
       "      <td>0.262062</td>\n",
       "      <td>0.979938</td>\n",
       "      <td>1</td>\n",
       "      <td>0</td>\n",
       "      <td>1</td>\n",
       "      <td>0</td>\n",
       "      <td>0</td>\n",
       "      <td>0</td>\n",
       "    </tr>\n",
       "    <tr>\n",
       "      <th>696</th>\n",
       "      <td>29</td>\n",
       "      <td>6</td>\n",
       "      <td>4</td>\n",
       "      <td>21</td>\n",
       "      <td>11.5</td>\n",
       "      <td>0.369495</td>\n",
       "      <td>2.045505</td>\n",
       "      <td>0</td>\n",
       "      <td>0</td>\n",
       "      <td>1</td>\n",
       "      <td>0</td>\n",
       "      <td>0</td>\n",
       "      <td>0</td>\n",
       "    </tr>\n",
       "    <tr>\n",
       "      <th>697</th>\n",
       "      <td>33</td>\n",
       "      <td>15</td>\n",
       "      <td>3</td>\n",
       "      <td>32</td>\n",
       "      <td>7.6</td>\n",
       "      <td>0.491264</td>\n",
       "      <td>1.940736</td>\n",
       "      <td>0</td>\n",
       "      <td>0</td>\n",
       "      <td>0</td>\n",
       "      <td>1</td>\n",
       "      <td>0</td>\n",
       "      <td>0</td>\n",
       "    </tr>\n",
       "    <tr>\n",
       "      <th>698</th>\n",
       "      <td>45</td>\n",
       "      <td>19</td>\n",
       "      <td>22</td>\n",
       "      <td>77</td>\n",
       "      <td>8.4</td>\n",
       "      <td>2.302608</td>\n",
       "      <td>4.165392</td>\n",
       "      <td>0</td>\n",
       "      <td>0</td>\n",
       "      <td>0</td>\n",
       "      <td>1</td>\n",
       "      <td>0</td>\n",
       "      <td>0</td>\n",
       "    </tr>\n",
       "    <tr>\n",
       "      <th>699</th>\n",
       "      <td>37</td>\n",
       "      <td>12</td>\n",
       "      <td>14</td>\n",
       "      <td>44</td>\n",
       "      <td>14.7</td>\n",
       "      <td>2.994684</td>\n",
       "      <td>3.473316</td>\n",
       "      <td>0</td>\n",
       "      <td>0</td>\n",
       "      <td>0</td>\n",
       "      <td>1</td>\n",
       "      <td>0</td>\n",
       "      <td>0</td>\n",
       "    </tr>\n",
       "  </tbody>\n",
       "</table>\n",
       "<p>700 rows × 13 columns</p>\n",
       "</div>"
      ],
      "text/plain": [
       "     age  employ  address  income  debtinc   creddebt   othdebt  default  \\\n",
       "0     41      17       12     176      9.3  11.359392  5.008608        1   \n",
       "1     27      10        6      31     17.3   1.362202  4.000798        0   \n",
       "2     40      15       14      55      5.5   0.856075  2.168925        0   \n",
       "3     41      15       14     120      2.9   2.658720  0.821280        0   \n",
       "4     24       2        0      28     17.3   1.787436  3.056564        1   \n",
       "..   ...     ...      ...     ...      ...        ...       ...      ...   \n",
       "695   36       6       15      27      4.6   0.262062  0.979938        1   \n",
       "696   29       6        4      21     11.5   0.369495  2.045505        0   \n",
       "697   33      15        3      32      7.6   0.491264  1.940736        0   \n",
       "698   45      19       22      77      8.4   2.302608  4.165392        0   \n",
       "699   37      12       14      44     14.7   2.994684  3.473316        0   \n",
       "\n",
       "     ed_college degree  ed_high school  ed_no high school  ed_postgraduate  \\\n",
       "0                    1               0                  0                0   \n",
       "1                    0               0                  1                0   \n",
       "2                    0               0                  1                0   \n",
       "3                    0               0                  1                0   \n",
       "4                    0               1                  0                0   \n",
       "..                 ...             ...                ...              ...   \n",
       "695                  0               1                  0                0   \n",
       "696                  0               1                  0                0   \n",
       "697                  0               0                  1                0   \n",
       "698                  0               0                  1                0   \n",
       "699                  0               0                  1                0   \n",
       "\n",
       "     ed_undergraduate  \n",
       "0                   0  \n",
       "1                   0  \n",
       "2                   0  \n",
       "3                   0  \n",
       "4                   0  \n",
       "..                ...  \n",
       "695                 0  \n",
       "696                 0  \n",
       "697                 0  \n",
       "698                 0  \n",
       "699                 0  \n",
       "\n",
       "[700 rows x 13 columns]"
      ]
     },
     "execution_count": 39,
     "metadata": {},
     "output_type": "execute_result"
    }
   ],
   "source": [
    "dt = pd.get_dummies(dt)\n",
    "dt"
   ]
  },
  {
   "cell_type": "code",
   "execution_count": 40,
   "metadata": {},
   "outputs": [
    {
     "data": {
      "text/html": [
       "<div>\n",
       "<style scoped>\n",
       "    .dataframe tbody tr th:only-of-type {\n",
       "        vertical-align: middle;\n",
       "    }\n",
       "\n",
       "    .dataframe tbody tr th {\n",
       "        vertical-align: top;\n",
       "    }\n",
       "\n",
       "    .dataframe thead th {\n",
       "        text-align: right;\n",
       "    }\n",
       "</style>\n",
       "<table border=\"1\" class=\"dataframe\">\n",
       "  <thead>\n",
       "    <tr style=\"text-align: right;\">\n",
       "      <th></th>\n",
       "      <th>age</th>\n",
       "      <th>employ</th>\n",
       "      <th>address</th>\n",
       "      <th>income</th>\n",
       "      <th>debtinc</th>\n",
       "      <th>creddebt</th>\n",
       "      <th>othdebt</th>\n",
       "      <th>default</th>\n",
       "      <th>ed_college degree</th>\n",
       "      <th>ed_high school</th>\n",
       "      <th>ed_no high school</th>\n",
       "      <th>ed_postgraduate</th>\n",
       "      <th>ed_undergraduate</th>\n",
       "    </tr>\n",
       "  </thead>\n",
       "  <tbody>\n",
       "    <tr>\n",
       "      <th>age</th>\n",
       "      <td>1.000000</td>\n",
       "      <td>0.536497</td>\n",
       "      <td>0.597591</td>\n",
       "      <td>0.478710</td>\n",
       "      <td>0.016398</td>\n",
       "      <td>0.295207</td>\n",
       "      <td>0.340217</td>\n",
       "      <td>-0.137657</td>\n",
       "      <td>0.051031</td>\n",
       "      <td>-0.059646</td>\n",
       "      <td>0.015432</td>\n",
       "      <td>0.082148</td>\n",
       "      <td>-0.020260</td>\n",
       "    </tr>\n",
       "    <tr>\n",
       "      <th>employ</th>\n",
       "      <td>0.536497</td>\n",
       "      <td>1.000000</td>\n",
       "      <td>0.322334</td>\n",
       "      <td>0.619681</td>\n",
       "      <td>-0.031182</td>\n",
       "      <td>0.403694</td>\n",
       "      <td>0.406091</td>\n",
       "      <td>-0.282978</td>\n",
       "      <td>-0.029161</td>\n",
       "      <td>-0.073388</td>\n",
       "      <td>0.146061</td>\n",
       "      <td>0.005245</td>\n",
       "      <td>-0.135290</td>\n",
       "    </tr>\n",
       "    <tr>\n",
       "      <th>address</th>\n",
       "      <td>0.597591</td>\n",
       "      <td>0.322334</td>\n",
       "      <td>1.000000</td>\n",
       "      <td>0.316245</td>\n",
       "      <td>0.011323</td>\n",
       "      <td>0.208435</td>\n",
       "      <td>0.226514</td>\n",
       "      <td>-0.164451</td>\n",
       "      <td>0.058899</td>\n",
       "      <td>0.001322</td>\n",
       "      <td>-0.047697</td>\n",
       "      <td>0.023896</td>\n",
       "      <td>0.007779</td>\n",
       "    </tr>\n",
       "    <tr>\n",
       "      <th>income</th>\n",
       "      <td>0.478710</td>\n",
       "      <td>0.619681</td>\n",
       "      <td>0.316245</td>\n",
       "      <td>1.000000</td>\n",
       "      <td>-0.026777</td>\n",
       "      <td>0.570199</td>\n",
       "      <td>0.610659</td>\n",
       "      <td>-0.070970</td>\n",
       "      <td>0.149451</td>\n",
       "      <td>0.014392</td>\n",
       "      <td>-0.178107</td>\n",
       "      <td>0.163696</td>\n",
       "      <td>0.085204</td>\n",
       "    </tr>\n",
       "    <tr>\n",
       "      <th>debtinc</th>\n",
       "      <td>0.016398</td>\n",
       "      <td>-0.031182</td>\n",
       "      <td>0.011323</td>\n",
       "      <td>-0.026777</td>\n",
       "      <td>1.000000</td>\n",
       "      <td>0.501767</td>\n",
       "      <td>0.584870</td>\n",
       "      <td>0.389575</td>\n",
       "      <td>0.032199</td>\n",
       "      <td>-0.034308</td>\n",
       "      <td>0.005693</td>\n",
       "      <td>-0.042278</td>\n",
       "      <td>0.024489</td>\n",
       "    </tr>\n",
       "    <tr>\n",
       "      <th>creddebt</th>\n",
       "      <td>0.295207</td>\n",
       "      <td>0.403694</td>\n",
       "      <td>0.208435</td>\n",
       "      <td>0.570199</td>\n",
       "      <td>0.501767</td>\n",
       "      <td>1.000000</td>\n",
       "      <td>0.633104</td>\n",
       "      <td>0.244740</td>\n",
       "      <td>0.110548</td>\n",
       "      <td>-0.038828</td>\n",
       "      <td>-0.056229</td>\n",
       "      <td>-0.009532</td>\n",
       "      <td>0.043597</td>\n",
       "    </tr>\n",
       "    <tr>\n",
       "      <th>othdebt</th>\n",
       "      <td>0.340217</td>\n",
       "      <td>0.406091</td>\n",
       "      <td>0.226514</td>\n",
       "      <td>0.610659</td>\n",
       "      <td>0.584870</td>\n",
       "      <td>0.633104</td>\n",
       "      <td>1.000000</td>\n",
       "      <td>0.145713</td>\n",
       "      <td>0.169630</td>\n",
       "      <td>-0.012977</td>\n",
       "      <td>-0.127588</td>\n",
       "      <td>0.080032</td>\n",
       "      <td>0.030057</td>\n",
       "    </tr>\n",
       "    <tr>\n",
       "      <th>default</th>\n",
       "      <td>-0.137657</td>\n",
       "      <td>-0.282978</td>\n",
       "      <td>-0.164451</td>\n",
       "      <td>-0.070970</td>\n",
       "      <td>0.389575</td>\n",
       "      <td>0.244740</td>\n",
       "      <td>0.145713</td>\n",
       "      <td>1.000000</td>\n",
       "      <td>0.071502</td>\n",
       "      <td>0.052241</td>\n",
       "      <td>-0.118909</td>\n",
       "      <td>-0.011857</td>\n",
       "      <td>0.058337</td>\n",
       "    </tr>\n",
       "    <tr>\n",
       "      <th>ed_college degree</th>\n",
       "      <td>0.051031</td>\n",
       "      <td>-0.029161</td>\n",
       "      <td>0.058899</td>\n",
       "      <td>0.149451</td>\n",
       "      <td>0.032199</td>\n",
       "      <td>0.110548</td>\n",
       "      <td>0.169630</td>\n",
       "      <td>0.071502</td>\n",
       "      <td>1.000000</td>\n",
       "      <td>-0.236597</td>\n",
       "      <td>-0.401203</td>\n",
       "      <td>-0.031954</td>\n",
       "      <td>-0.090259</td>\n",
       "    </tr>\n",
       "    <tr>\n",
       "      <th>ed_high school</th>\n",
       "      <td>-0.059646</td>\n",
       "      <td>-0.073388</td>\n",
       "      <td>0.001322</td>\n",
       "      <td>0.014392</td>\n",
       "      <td>-0.034308</td>\n",
       "      <td>-0.038828</td>\n",
       "      <td>-0.012977</td>\n",
       "      <td>0.052241</td>\n",
       "      <td>-0.236597</td>\n",
       "      <td>1.000000</td>\n",
       "      <td>-0.668829</td>\n",
       "      <td>-0.053269</td>\n",
       "      <td>-0.150468</td>\n",
       "    </tr>\n",
       "    <tr>\n",
       "      <th>ed_no high school</th>\n",
       "      <td>0.015432</td>\n",
       "      <td>0.146061</td>\n",
       "      <td>-0.047697</td>\n",
       "      <td>-0.178107</td>\n",
       "      <td>0.005693</td>\n",
       "      <td>-0.056229</td>\n",
       "      <td>-0.127588</td>\n",
       "      <td>-0.118909</td>\n",
       "      <td>-0.401203</td>\n",
       "      <td>-0.668829</td>\n",
       "      <td>1.000000</td>\n",
       "      <td>-0.090329</td>\n",
       "      <td>-0.255151</td>\n",
       "    </tr>\n",
       "    <tr>\n",
       "      <th>ed_postgraduate</th>\n",
       "      <td>0.082148</td>\n",
       "      <td>0.005245</td>\n",
       "      <td>0.023896</td>\n",
       "      <td>0.163696</td>\n",
       "      <td>-0.042278</td>\n",
       "      <td>-0.009532</td>\n",
       "      <td>0.080032</td>\n",
       "      <td>-0.011857</td>\n",
       "      <td>-0.031954</td>\n",
       "      <td>-0.053269</td>\n",
       "      <td>-0.090329</td>\n",
       "      <td>1.000000</td>\n",
       "      <td>-0.020321</td>\n",
       "    </tr>\n",
       "    <tr>\n",
       "      <th>ed_undergraduate</th>\n",
       "      <td>-0.020260</td>\n",
       "      <td>-0.135290</td>\n",
       "      <td>0.007779</td>\n",
       "      <td>0.085204</td>\n",
       "      <td>0.024489</td>\n",
       "      <td>0.043597</td>\n",
       "      <td>0.030057</td>\n",
       "      <td>0.058337</td>\n",
       "      <td>-0.090259</td>\n",
       "      <td>-0.150468</td>\n",
       "      <td>-0.255151</td>\n",
       "      <td>-0.020321</td>\n",
       "      <td>1.000000</td>\n",
       "    </tr>\n",
       "  </tbody>\n",
       "</table>\n",
       "</div>"
      ],
      "text/plain": [
       "                        age    employ   address    income   debtinc  creddebt  \\\n",
       "age                1.000000  0.536497  0.597591  0.478710  0.016398  0.295207   \n",
       "employ             0.536497  1.000000  0.322334  0.619681 -0.031182  0.403694   \n",
       "address            0.597591  0.322334  1.000000  0.316245  0.011323  0.208435   \n",
       "income             0.478710  0.619681  0.316245  1.000000 -0.026777  0.570199   \n",
       "debtinc            0.016398 -0.031182  0.011323 -0.026777  1.000000  0.501767   \n",
       "creddebt           0.295207  0.403694  0.208435  0.570199  0.501767  1.000000   \n",
       "othdebt            0.340217  0.406091  0.226514  0.610659  0.584870  0.633104   \n",
       "default           -0.137657 -0.282978 -0.164451 -0.070970  0.389575  0.244740   \n",
       "ed_college degree  0.051031 -0.029161  0.058899  0.149451  0.032199  0.110548   \n",
       "ed_high school    -0.059646 -0.073388  0.001322  0.014392 -0.034308 -0.038828   \n",
       "ed_no high school  0.015432  0.146061 -0.047697 -0.178107  0.005693 -0.056229   \n",
       "ed_postgraduate    0.082148  0.005245  0.023896  0.163696 -0.042278 -0.009532   \n",
       "ed_undergraduate  -0.020260 -0.135290  0.007779  0.085204  0.024489  0.043597   \n",
       "\n",
       "                    othdebt   default  ed_college degree  ed_high school  \\\n",
       "age                0.340217 -0.137657           0.051031       -0.059646   \n",
       "employ             0.406091 -0.282978          -0.029161       -0.073388   \n",
       "address            0.226514 -0.164451           0.058899        0.001322   \n",
       "income             0.610659 -0.070970           0.149451        0.014392   \n",
       "debtinc            0.584870  0.389575           0.032199       -0.034308   \n",
       "creddebt           0.633104  0.244740           0.110548       -0.038828   \n",
       "othdebt            1.000000  0.145713           0.169630       -0.012977   \n",
       "default            0.145713  1.000000           0.071502        0.052241   \n",
       "ed_college degree  0.169630  0.071502           1.000000       -0.236597   \n",
       "ed_high school    -0.012977  0.052241          -0.236597        1.000000   \n",
       "ed_no high school -0.127588 -0.118909          -0.401203       -0.668829   \n",
       "ed_postgraduate    0.080032 -0.011857          -0.031954       -0.053269   \n",
       "ed_undergraduate   0.030057  0.058337          -0.090259       -0.150468   \n",
       "\n",
       "                   ed_no high school  ed_postgraduate  ed_undergraduate  \n",
       "age                         0.015432         0.082148         -0.020260  \n",
       "employ                      0.146061         0.005245         -0.135290  \n",
       "address                    -0.047697         0.023896          0.007779  \n",
       "income                     -0.178107         0.163696          0.085204  \n",
       "debtinc                     0.005693        -0.042278          0.024489  \n",
       "creddebt                   -0.056229        -0.009532          0.043597  \n",
       "othdebt                    -0.127588         0.080032          0.030057  \n",
       "default                    -0.118909        -0.011857          0.058337  \n",
       "ed_college degree          -0.401203        -0.031954         -0.090259  \n",
       "ed_high school             -0.668829        -0.053269         -0.150468  \n",
       "ed_no high school           1.000000        -0.090329         -0.255151  \n",
       "ed_postgraduate            -0.090329         1.000000         -0.020321  \n",
       "ed_undergraduate           -0.255151        -0.020321          1.000000  "
      ]
     },
     "execution_count": 40,
     "metadata": {},
     "output_type": "execute_result"
    }
   ],
   "source": [
    "dt.corr()"
   ]
  },
  {
   "cell_type": "code",
   "execution_count": 41,
   "metadata": {},
   "outputs": [],
   "source": [
    "from sklearn.model_selection import train_test_split\n",
    "xTrain, xTest, yTrain, yTest = train_test_split(dt[dt.columns.difference(['default'])], dt['default'], test_size = 0.2,random_state = 10)"
   ]
  },
  {
   "cell_type": "code",
   "execution_count": 42,
   "metadata": {},
   "outputs": [
    {
     "data": {
      "text/html": [
       "<div>\n",
       "<style scoped>\n",
       "    .dataframe tbody tr th:only-of-type {\n",
       "        vertical-align: middle;\n",
       "    }\n",
       "\n",
       "    .dataframe tbody tr th {\n",
       "        vertical-align: top;\n",
       "    }\n",
       "\n",
       "    .dataframe thead th {\n",
       "        text-align: right;\n",
       "    }\n",
       "</style>\n",
       "<table border=\"1\" class=\"dataframe\">\n",
       "  <thead>\n",
       "    <tr style=\"text-align: right;\">\n",
       "      <th></th>\n",
       "      <th>address</th>\n",
       "      <th>age</th>\n",
       "      <th>creddebt</th>\n",
       "      <th>debtinc</th>\n",
       "      <th>ed_college degree</th>\n",
       "      <th>ed_high school</th>\n",
       "      <th>ed_no high school</th>\n",
       "      <th>ed_postgraduate</th>\n",
       "      <th>ed_undergraduate</th>\n",
       "      <th>employ</th>\n",
       "      <th>income</th>\n",
       "      <th>othdebt</th>\n",
       "    </tr>\n",
       "  </thead>\n",
       "  <tbody>\n",
       "    <tr>\n",
       "      <th>16</th>\n",
       "      <td>6</td>\n",
       "      <td>36</td>\n",
       "      <td>2.918216</td>\n",
       "      <td>16.4</td>\n",
       "      <td>0</td>\n",
       "      <td>1</td>\n",
       "      <td>0</td>\n",
       "      <td>0</td>\n",
       "      <td>0</td>\n",
       "      <td>13</td>\n",
       "      <td>41</td>\n",
       "      <td>3.805784</td>\n",
       "    </tr>\n",
       "    <tr>\n",
       "      <th>280</th>\n",
       "      <td>6</td>\n",
       "      <td>31</td>\n",
       "      <td>0.345408</td>\n",
       "      <td>4.8</td>\n",
       "      <td>0</td>\n",
       "      <td>0</td>\n",
       "      <td>1</td>\n",
       "      <td>0</td>\n",
       "      <td>0</td>\n",
       "      <td>11</td>\n",
       "      <td>28</td>\n",
       "      <td>0.998592</td>\n",
       "    </tr>\n",
       "    <tr>\n",
       "      <th>353</th>\n",
       "      <td>13</td>\n",
       "      <td>37</td>\n",
       "      <td>1.185750</td>\n",
       "      <td>8.5</td>\n",
       "      <td>0</td>\n",
       "      <td>1</td>\n",
       "      <td>0</td>\n",
       "      <td>0</td>\n",
       "      <td>0</td>\n",
       "      <td>6</td>\n",
       "      <td>62</td>\n",
       "      <td>4.084250</td>\n",
       "    </tr>\n",
       "    <tr>\n",
       "      <th>374</th>\n",
       "      <td>17</td>\n",
       "      <td>39</td>\n",
       "      <td>0.340774</td>\n",
       "      <td>1.4</td>\n",
       "      <td>0</td>\n",
       "      <td>1</td>\n",
       "      <td>0</td>\n",
       "      <td>0</td>\n",
       "      <td>0</td>\n",
       "      <td>20</td>\n",
       "      <td>101</td>\n",
       "      <td>1.073226</td>\n",
       "    </tr>\n",
       "    <tr>\n",
       "      <th>300</th>\n",
       "      <td>18</td>\n",
       "      <td>47</td>\n",
       "      <td>20.561310</td>\n",
       "      <td>25.3</td>\n",
       "      <td>0</td>\n",
       "      <td>0</td>\n",
       "      <td>1</td>\n",
       "      <td>0</td>\n",
       "      <td>0</td>\n",
       "      <td>29</td>\n",
       "      <td>129</td>\n",
       "      <td>12.075690</td>\n",
       "    </tr>\n",
       "    <tr>\n",
       "      <th>...</th>\n",
       "      <td>...</td>\n",
       "      <td>...</td>\n",
       "      <td>...</td>\n",
       "      <td>...</td>\n",
       "      <td>...</td>\n",
       "      <td>...</td>\n",
       "      <td>...</td>\n",
       "      <td>...</td>\n",
       "      <td>...</td>\n",
       "      <td>...</td>\n",
       "      <td>...</td>\n",
       "      <td>...</td>\n",
       "    </tr>\n",
       "    <tr>\n",
       "      <th>369</th>\n",
       "      <td>4</td>\n",
       "      <td>46</td>\n",
       "      <td>0.826551</td>\n",
       "      <td>2.3</td>\n",
       "      <td>1</td>\n",
       "      <td>0</td>\n",
       "      <td>0</td>\n",
       "      <td>0</td>\n",
       "      <td>0</td>\n",
       "      <td>22</td>\n",
       "      <td>99</td>\n",
       "      <td>1.450449</td>\n",
       "    </tr>\n",
       "    <tr>\n",
       "      <th>320</th>\n",
       "      <td>4</td>\n",
       "      <td>24</td>\n",
       "      <td>0.381600</td>\n",
       "      <td>5.0</td>\n",
       "      <td>0</td>\n",
       "      <td>0</td>\n",
       "      <td>1</td>\n",
       "      <td>0</td>\n",
       "      <td>0</td>\n",
       "      <td>8</td>\n",
       "      <td>24</td>\n",
       "      <td>0.818400</td>\n",
       "    </tr>\n",
       "    <tr>\n",
       "      <th>527</th>\n",
       "      <td>10</td>\n",
       "      <td>42</td>\n",
       "      <td>0.666528</td>\n",
       "      <td>10.6</td>\n",
       "      <td>0</td>\n",
       "      <td>0</td>\n",
       "      <td>1</td>\n",
       "      <td>0</td>\n",
       "      <td>0</td>\n",
       "      <td>3</td>\n",
       "      <td>24</td>\n",
       "      <td>1.877472</td>\n",
       "    </tr>\n",
       "    <tr>\n",
       "      <th>125</th>\n",
       "      <td>11</td>\n",
       "      <td>41</td>\n",
       "      <td>0.694364</td>\n",
       "      <td>4.4</td>\n",
       "      <td>0</td>\n",
       "      <td>0</td>\n",
       "      <td>1</td>\n",
       "      <td>0</td>\n",
       "      <td>0</td>\n",
       "      <td>7</td>\n",
       "      <td>43</td>\n",
       "      <td>1.197636</td>\n",
       "    </tr>\n",
       "    <tr>\n",
       "      <th>265</th>\n",
       "      <td>0</td>\n",
       "      <td>33</td>\n",
       "      <td>0.630784</td>\n",
       "      <td>6.4</td>\n",
       "      <td>0</td>\n",
       "      <td>0</td>\n",
       "      <td>1</td>\n",
       "      <td>0</td>\n",
       "      <td>0</td>\n",
       "      <td>7</td>\n",
       "      <td>22</td>\n",
       "      <td>0.777216</td>\n",
       "    </tr>\n",
       "  </tbody>\n",
       "</table>\n",
       "<p>560 rows × 12 columns</p>\n",
       "</div>"
      ],
      "text/plain": [
       "     address  age   creddebt  debtinc  ed_college degree  ed_high school  \\\n",
       "16         6   36   2.918216     16.4                  0               1   \n",
       "280        6   31   0.345408      4.8                  0               0   \n",
       "353       13   37   1.185750      8.5                  0               1   \n",
       "374       17   39   0.340774      1.4                  0               1   \n",
       "300       18   47  20.561310     25.3                  0               0   \n",
       "..       ...  ...        ...      ...                ...             ...   \n",
       "369        4   46   0.826551      2.3                  1               0   \n",
       "320        4   24   0.381600      5.0                  0               0   \n",
       "527       10   42   0.666528     10.6                  0               0   \n",
       "125       11   41   0.694364      4.4                  0               0   \n",
       "265        0   33   0.630784      6.4                  0               0   \n",
       "\n",
       "     ed_no high school  ed_postgraduate  ed_undergraduate  employ  income  \\\n",
       "16                   0                0                 0      13      41   \n",
       "280                  1                0                 0      11      28   \n",
       "353                  0                0                 0       6      62   \n",
       "374                  0                0                 0      20     101   \n",
       "300                  1                0                 0      29     129   \n",
       "..                 ...              ...               ...     ...     ...   \n",
       "369                  0                0                 0      22      99   \n",
       "320                  1                0                 0       8      24   \n",
       "527                  1                0                 0       3      24   \n",
       "125                  1                0                 0       7      43   \n",
       "265                  1                0                 0       7      22   \n",
       "\n",
       "       othdebt  \n",
       "16    3.805784  \n",
       "280   0.998592  \n",
       "353   4.084250  \n",
       "374   1.073226  \n",
       "300  12.075690  \n",
       "..         ...  \n",
       "369   1.450449  \n",
       "320   0.818400  \n",
       "527   1.877472  \n",
       "125   1.197636  \n",
       "265   0.777216  \n",
       "\n",
       "[560 rows x 12 columns]"
      ]
     },
     "execution_count": 42,
     "metadata": {},
     "output_type": "execute_result"
    }
   ],
   "source": [
    "xTrain"
   ]
  },
  {
   "cell_type": "code",
   "execution_count": 43,
   "metadata": {},
   "outputs": [],
   "source": [
    "regr = LogisticRegression(random_state = 10).fit(xTrain,yTrain)\n",
    "y_predict = regr.predict(xTrain)\n",
    "regr1 = LogisticRegression(random_state = 10).fit(xTest,yTest)\n",
    "y_predict1 = regr1.predict(xTest)"
   ]
  },
  {
   "cell_type": "code",
   "execution_count": 44,
   "metadata": {},
   "outputs": [
    {
     "data": {
      "text/plain": [
       "0.8196428571428571"
      ]
     },
     "execution_count": 44,
     "metadata": {},
     "output_type": "execute_result"
    }
   ],
   "source": [
    "regr.score(xTrain,yTrain)"
   ]
  },
  {
   "cell_type": "code",
   "execution_count": 45,
   "metadata": {},
   "outputs": [
    {
     "data": {
      "text/plain": [
       "0.8142857142857143"
      ]
     },
     "execution_count": 45,
     "metadata": {},
     "output_type": "execute_result"
    }
   ],
   "source": [
    "regr1.score(xTest,yTest)"
   ]
  },
  {
   "cell_type": "code",
   "execution_count": 46,
   "metadata": {},
   "outputs": [
    {
     "data": {
      "text/plain": [
       "array([[378,  33],\n",
       "       [ 68,  81]], dtype=int64)"
      ]
     },
     "execution_count": 46,
     "metadata": {},
     "output_type": "execute_result"
    }
   ],
   "source": [
    "confusion_matrix(yTrain, y_predict)"
   ]
  },
  {
   "cell_type": "code",
   "execution_count": 47,
   "metadata": {},
   "outputs": [
    {
     "data": {
      "text/plain": [
       "array([[99,  7],\n",
       "       [19, 15]], dtype=int64)"
      ]
     },
     "execution_count": 47,
     "metadata": {},
     "output_type": "execute_result"
    }
   ],
   "source": [
    "confusion_matrix(yTest, y_predict1)"
   ]
  },
  {
   "cell_type": "code",
   "execution_count": 48,
   "metadata": {},
   "outputs": [],
   "source": [
    "from sklearn.metrics import precision_score"
   ]
  },
  {
   "cell_type": "code",
   "execution_count": 49,
   "metadata": {},
   "outputs": [
    {
     "data": {
      "text/plain": [
       "array([0.83898305, 0.68181818])"
      ]
     },
     "execution_count": 49,
     "metadata": {},
     "output_type": "execute_result"
    }
   ],
   "source": [
    "precision_score(yTest, y_predict1,average= None)"
   ]
  },
  {
   "cell_type": "code",
   "execution_count": 50,
   "metadata": {},
   "outputs": [
    {
     "name": "stdout",
     "output_type": "stream",
     "text": [
      "0.9339622641509434 0.8389830508474576 0.8142857142857143\n"
     ]
    }
   ],
   "source": [
    "recall = 99/(99+7)\n",
    "presicion = 99/(99+19)\n",
    "accuracy = (99+15)/(99+7+19+15)\n",
    "print(recall,presicion,accuracy)"
   ]
  },
  {
   "cell_type": "markdown",
   "metadata": {},
   "source": [
    "# 2. Print accuracy, confusion matrix, precision, recall, sensitivity and specifity on train and test (and maybe validation) datasets."
   ]
  },
  {
   "cell_type": "markdown",
   "metadata": {},
   "source": [
    "##### do not use any libraries for metrics, implement yourself"
   ]
  },
  {
   "cell_type": "code",
   "execution_count": 121,
   "metadata": {},
   "outputs": [],
   "source": [
    "yTrain = yTrain.reset_index(drop = True)"
   ]
  },
  {
   "cell_type": "code",
   "execution_count": 139,
   "metadata": {},
   "outputs": [],
   "source": [
    "TP,FP,TN,FN = 0,0,0,0\n",
    "\n",
    "\n",
    "for i in range(len(yTrain)):\n",
    "    if (yTrain[i] != y_predict[i] and yTrain[i]==0):\n",
    "        FP+=1\n",
    "    elif (yTrain[i] != y_predict[i] and yTrain[i]==1):\n",
    "        FN+=1\n",
    "    elif (yTrain[i] == y_predict[i] and yTrain[i]==0):\n",
    "        TP+=1\n",
    "    elif (yTrain[i] == y_predict[i] and yTrain[i]==1):\n",
    "        TN+=1\n",
    "confusion_m = np.array([[TP,FP],[FN,TN]])\n"
   ]
  },
  {
   "cell_type": "code",
   "execution_count": 140,
   "metadata": {},
   "outputs": [
    {
     "data": {
      "text/plain": [
       "array([[378,  33],\n",
       "       [ 68,  81]])"
      ]
     },
     "execution_count": 140,
     "metadata": {},
     "output_type": "execute_result"
    }
   ],
   "source": [
    "confusion_m"
   ]
  },
  {
   "cell_type": "code",
   "execution_count": 142,
   "metadata": {},
   "outputs": [
    {
     "data": {
      "text/plain": [
       "0.8475336322869955"
      ]
     },
     "execution_count": 142,
     "metadata": {},
     "output_type": "execute_result"
    }
   ],
   "source": [
    "recall = TP/(TP+FN)\n",
    "recall"
   ]
  },
  {
   "cell_type": "code",
   "execution_count": 143,
   "metadata": {},
   "outputs": [
    {
     "data": {
      "text/plain": [
       "0.8196428571428571"
      ]
     },
     "execution_count": 143,
     "metadata": {},
     "output_type": "execute_result"
    }
   ],
   "source": [
    "accuracy = (TP+TN)/(TP+FP+TN+FN)\n",
    "accuracy "
   ]
  },
  {
   "cell_type": "code",
   "execution_count": 144,
   "metadata": {},
   "outputs": [
    {
     "data": {
      "text/plain": [
       "0.9197080291970803"
      ]
     },
     "execution_count": 144,
     "metadata": {},
     "output_type": "execute_result"
    }
   ],
   "source": [
    "precision = TP/(TP+FP)\n",
    "precision"
   ]
  },
  {
   "cell_type": "code",
   "execution_count": 145,
   "metadata": {},
   "outputs": [
    {
     "data": {
      "text/plain": [
       "0.8475336322869955"
      ]
     },
     "execution_count": 145,
     "metadata": {},
     "output_type": "execute_result"
    }
   ],
   "source": [
    "sensitivity = TP/(TP+FN)\n",
    "sensitivity"
   ]
  },
  {
   "cell_type": "code",
   "execution_count": 146,
   "metadata": {},
   "outputs": [
    {
     "data": {
      "text/plain": [
       "0.7105263157894737"
      ]
     },
     "execution_count": 146,
     "metadata": {},
     "output_type": "execute_result"
    }
   ],
   "source": [
    "specifity = TN/(TN+FP)\n",
    "specifity "
   ]
  },
  {
   "cell_type": "code",
   "execution_count": 155,
   "metadata": {},
   "outputs": [
    {
     "data": {
      "text/plain": [
       "0      0\n",
       "1      0\n",
       "2      0\n",
       "3      0\n",
       "4      0\n",
       "      ..\n",
       "135    1\n",
       "136    0\n",
       "137    0\n",
       "138    0\n",
       "139    0\n",
       "Name: default, Length: 140, dtype: int64"
      ]
     },
     "execution_count": 155,
     "metadata": {},
     "output_type": "execute_result"
    }
   ],
   "source": [
    "yTest = yTest.reset_index(drop = True)\n",
    "yTest"
   ]
  },
  {
   "cell_type": "code",
   "execution_count": 156,
   "metadata": {},
   "outputs": [],
   "source": [
    "TPt,FPt,TNt,FNt = 0,0,0,0\n",
    "\n",
    "\n",
    "for i in range(len(yTest)):\n",
    "    if (yTest[i] != y_predict1[i] and yTest[i]==0):\n",
    "        FPt+=1\n",
    "    elif (yTest[i] != y_predict1[i] and yTest[i]==1):\n",
    "        FNt+=1\n",
    "    elif (yTest[i] == y_predict1[i] and yTest[i]==0):\n",
    "        TPt+=1\n",
    "    elif (yTest[i] == y_predict1[i] and yTest[i]==1):\n",
    "        TNt+=1\n",
    "confusion_mt = np.array([[TPt,FPt],[FNt,TNt]])\n"
   ]
  },
  {
   "cell_type": "code",
   "execution_count": 157,
   "metadata": {},
   "outputs": [
    {
     "data": {
      "text/plain": [
       "array([[99,  7],\n",
       "       [19, 15]])"
      ]
     },
     "execution_count": 157,
     "metadata": {},
     "output_type": "execute_result"
    }
   ],
   "source": [
    "confusion_mt"
   ]
  },
  {
   "cell_type": "code",
   "execution_count": 158,
   "metadata": {},
   "outputs": [
    {
     "data": {
      "text/plain": [
       "0.8389830508474576"
      ]
     },
     "execution_count": 158,
     "metadata": {},
     "output_type": "execute_result"
    }
   ],
   "source": [
    "recallt = TPt/(TPt+FNt)\n",
    "recallt"
   ]
  },
  {
   "cell_type": "code",
   "execution_count": 159,
   "metadata": {},
   "outputs": [
    {
     "data": {
      "text/plain": [
       "0.8142857142857143"
      ]
     },
     "execution_count": 159,
     "metadata": {},
     "output_type": "execute_result"
    }
   ],
   "source": [
    "accuracyt = (TPt+TNt)/(TPt+FPt+TNt+FNt)\n",
    "accuracyt"
   ]
  },
  {
   "cell_type": "code",
   "execution_count": 160,
   "metadata": {},
   "outputs": [
    {
     "data": {
      "text/plain": [
       "0.9339622641509434"
      ]
     },
     "execution_count": 160,
     "metadata": {},
     "output_type": "execute_result"
    }
   ],
   "source": [
    "precisiont = TPt/(TPt+FPt)\n",
    "precisiont"
   ]
  },
  {
   "cell_type": "code",
   "execution_count": 161,
   "metadata": {},
   "outputs": [
    {
     "data": {
      "text/plain": [
       "0.8389830508474576"
      ]
     },
     "execution_count": 161,
     "metadata": {},
     "output_type": "execute_result"
    }
   ],
   "source": [
    "sensitivityt = TPt/(TPt+FNt)\n",
    "sensitivityt"
   ]
  },
  {
   "cell_type": "code",
   "execution_count": 162,
   "metadata": {},
   "outputs": [
    {
     "data": {
      "text/plain": [
       "0.6818181818181818"
      ]
     },
     "execution_count": 162,
     "metadata": {},
     "output_type": "execute_result"
    }
   ],
   "source": [
    "specifityt = TNt/(TNt+FPt)\n",
    "specifityt"
   ]
  },
  {
   "cell_type": "code",
   "execution_count": null,
   "metadata": {},
   "outputs": [],
   "source": []
  }
 ],
 "metadata": {
  "kernelspec": {
   "display_name": "Python 3",
   "language": "python",
   "name": "python3"
  },
  "language_info": {
   "codemirror_mode": {
    "name": "ipython",
    "version": 3
   },
   "file_extension": ".py",
   "mimetype": "text/x-python",
   "name": "python",
   "nbconvert_exporter": "python",
   "pygments_lexer": "ipython3",
   "version": "3.7.6"
  }
 },
 "nbformat": 4,
 "nbformat_minor": 4
}
